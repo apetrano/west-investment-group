{
 "cells": [
  {
   "cell_type": "code",
   "execution_count": 1,
   "id": "76092992-02e4-44e4-9f9d-cafba5009f0b",
   "metadata": {
    "tags": []
   },
   "outputs": [],
   "source": [
    "import requests\n",
    "import sys\n",
    "sys.path.append('../src/')\n",
    "from TWIG_utils import *"
   ]
  },
  {
   "cell_type": "code",
   "execution_count": 2,
   "id": "9672c0fd-54d1-4898-8425-bf965efe46fe",
   "metadata": {
    "tags": []
   },
   "outputs": [],
   "source": [
    "api_key = \"JeeOjlOPBe5aTiQ_Jb39raRqlam45uAO\"\n",
    "client = RESTClient(auth_key=api_key)"
   ]
  },
  {
   "cell_type": "code",
   "execution_count": 18,
   "id": "55233806-6998-45c6-a4e4-77cabbf3aef6",
   "metadata": {
    "tags": []
   },
   "outputs": [
    {
     "data": {
      "text/plain": [
       "'SONY'"
      ]
     },
     "execution_count": 18,
     "metadata": {},
     "output_type": "execute_result"
    }
   ],
   "source": [
    "stock_data = read_csv_s3('twig-stockdata', 'sony_daily_stock_prices.csv')"
   ]
  },
  {
   "cell_type": "code",
   "execution_count": 19,
   "id": "5ea81037-8acf-44b2-8668-c697d49e47ce",
   "metadata": {
    "tags": []
   },
   "outputs": [],
   "source": [
    "ticker = stock_data['ticker'][0]\n",
    "date='2023-05-01'\n",
    "\n",
    "def ticker_news(ticker, api_key):\n",
    "    url = f\"https://api.polygon.io/v2/reference/news?ticker={ticker}&apiKey={api_key}\"\n",
    "    response = requests.get(url)\n",
    "\n",
    "    if response.status_code != 200:\n",
    "        print(f\"Error: Request returned status code {response.status_code}\")\n",
    "    else:\n",
    "        news_items = response.json()['results']\n",
    "\n",
    "    return pd.DataFrame(news_items)\n",
    "\n",
    "news = ticker_news(ticker, api_key)\n",
    "\n",
    "# news"
   ]
  },
  {
   "cell_type": "code",
   "execution_count": 20,
   "id": "00899a08-4e0b-4790-9592-ff59b68e75d8",
   "metadata": {
    "tags": []
   },
   "outputs": [
    {
     "data": {
      "text/html": [
       "<div>\n",
       "<style scoped>\n",
       "    .dataframe tbody tr th:only-of-type {\n",
       "        vertical-align: middle;\n",
       "    }\n",
       "\n",
       "    .dataframe tbody tr th {\n",
       "        vertical-align: top;\n",
       "    }\n",
       "\n",
       "    .dataframe thead th {\n",
       "        text-align: right;\n",
       "    }\n",
       "</style>\n",
       "<table border=\"1\" class=\"dataframe\">\n",
       "  <thead>\n",
       "    <tr style=\"text-align: right;\">\n",
       "      <th></th>\n",
       "      <th>Titles</th>\n",
       "      <th>Description</th>\n",
       "      <th>Articles</th>\n",
       "      <th>Published</th>\n",
       "      <th>Source</th>\n",
       "      <th>URL</th>\n",
       "      <th>Tickers</th>\n",
       "    </tr>\n",
       "  </thead>\n",
       "  <tbody>\n",
       "    <tr>\n",
       "      <th>0</th>\n",
       "      <td>Sony Reveals PS5 Sales Numbers, Sets Sights On...</td>\n",
       "      <td>In its latest earnings report, Sony Group Corp...</td>\n",
       "      <td>In its latest earnings report, Sony Group Corp...</td>\n",
       "      <td>2023-05-01T19:14:50Z</td>\n",
       "      <td>Franca Quarneti</td>\n",
       "      <td>https://www.benzinga.com/general/gaming/23/05/...</td>\n",
       "      <td>[SONY]</td>\n",
       "    </tr>\n",
       "  </tbody>\n",
       "</table>\n",
       "</div>"
      ],
      "text/plain": [
       "                                              Titles  \\\n",
       "0  Sony Reveals PS5 Sales Numbers, Sets Sights On...   \n",
       "\n",
       "                                         Description  \\\n",
       "0  In its latest earnings report, Sony Group Corp...   \n",
       "\n",
       "                                            Articles             Published  \\\n",
       "0  In its latest earnings report, Sony Group Corp...  2023-05-01T19:14:50Z   \n",
       "\n",
       "            Source                                                URL Tickers  \n",
       "0  Franca Quarneti  https://www.benzinga.com/general/gaming/23/05/...  [SONY]  "
      ]
     },
     "execution_count": 20,
     "metadata": {},
     "output_type": "execute_result"
    }
   ],
   "source": [
    "ticker_news = get_ticker_news(ticker, api_key, date)\n",
    "\n",
    "ticker_news"
   ]
  },
  {
   "cell_type": "code",
   "execution_count": null,
   "id": "2d88613a-4e82-487b-af25-07e6c1e7d7ef",
   "metadata": {
    "tags": []
   },
   "outputs": [],
   "source": [
    "createPlot(xvalue=stock_data.date.values, yvalue=stock_data.open.values, xlabel=\"date\", ylabel=\"price\", title=\"Open Prices\")"
   ]
  },
  {
   "cell_type": "code",
   "execution_count": null,
   "id": "6edf3e2d-175c-4250-8cc5-f89163296254",
   "metadata": {},
   "outputs": [],
   "source": []
  }
 ],
 "metadata": {
  "kernelspec": {
   "display_name": "Python 3 (ipykernel)",
   "language": "python",
   "name": "python3"
  },
  "language_info": {
   "codemirror_mode": {
    "name": "ipython",
    "version": 3
   },
   "file_extension": ".py",
   "mimetype": "text/x-python",
   "name": "python",
   "nbconvert_exporter": "python",
   "pygments_lexer": "ipython3",
   "version": "3.9.6"
  }
 },
 "nbformat": 4,
 "nbformat_minor": 5
}
