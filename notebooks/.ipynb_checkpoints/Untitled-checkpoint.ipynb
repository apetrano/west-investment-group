{
 "cells": [
  {
   "cell_type": "code",
   "execution_count": 2,
   "id": "76092992-02e4-44e4-9f9d-cafba5009f0b",
   "metadata": {
    "tags": []
   },
   "outputs": [],
   "source": [
    "from src.TWIG_utils import *"
   ]
  },
  {
   "cell_type": "code",
   "execution_count": 9,
   "id": "9672c0fd-54d1-4898-8425-bf965efe46fe",
   "metadata": {
    "tags": []
   },
   "outputs": [],
   "source": [
    "api_key = \"JeeOjlOPBe5aTiQ_Jb39raRqlam45uAO\"\n",
    "client = RESTClient(auth_key=api_key)"
   ]
  },
  {
   "cell_type": "code",
   "execution_count": 10,
   "id": "55233806-6998-45c6-a4e4-77cabbf3aef6",
   "metadata": {
    "tags": []
   },
   "outputs": [],
   "source": [
    "stock_data = read_csv_s3('twig-stockdata', 'sony_daily_stock_prices.csv')"
   ]
  },
  {
   "cell_type": "code",
   "execution_count": 11,
   "id": "5ea81037-8acf-44b2-8668-c697d49e47ce",
   "metadata": {
    "tags": []
   },
   "outputs": [
    {
     "data": {
      "text/html": [
       "<div>\n",
       "<style scoped>\n",
       "    .dataframe tbody tr th:only-of-type {\n",
       "        vertical-align: middle;\n",
       "    }\n",
       "\n",
       "    .dataframe tbody tr th {\n",
       "        vertical-align: top;\n",
       "    }\n",
       "\n",
       "    .dataframe thead th {\n",
       "        text-align: right;\n",
       "    }\n",
       "</style>\n",
       "<table border=\"1\" class=\"dataframe\">\n",
       "  <thead>\n",
       "    <tr style=\"text-align: right;\">\n",
       "      <th></th>\n",
       "      <th>id</th>\n",
       "      <th>publisher</th>\n",
       "      <th>title</th>\n",
       "      <th>author</th>\n",
       "      <th>published_utc</th>\n",
       "      <th>article_url</th>\n",
       "      <th>tickers</th>\n",
       "      <th>image_url</th>\n",
       "      <th>description</th>\n",
       "      <th>keywords</th>\n",
       "      <th>amp_url</th>\n",
       "    </tr>\n",
       "  </thead>\n",
       "  <tbody>\n",
       "    <tr>\n",
       "      <th>0</th>\n",
       "      <td>KKZME96u-H-LQOjOdx0dlBK6-dy829kDyQY4_fq_3f8</td>\n",
       "      <td>{'name': 'The Motley Fool', 'homepage_url': 'h...</td>\n",
       "      <td>7 Best Stocks to Buy in May 2023</td>\n",
       "      <td>newsfeedback@fool.com (Eric Cuka)</td>\n",
       "      <td>2023-04-29T15:19:08Z</td>\n",
       "      <td>https://www.fool.com/investing/2023/04/29/7-be...</td>\n",
       "      <td>[TSLA, GOOGL, AMZN, WOLF, GNRC, EVRI, ENPH, GOOG]</td>\n",
       "      <td>https://g.foolcdn.com/editorial/images/730217/...</td>\n",
       "      <td>Here are 7 stocks to buy now that could unlock...</td>\n",
       "      <td>[investing]</td>\n",
       "      <td>NaN</td>\n",
       "    </tr>\n",
       "    <tr>\n",
       "      <th>1</th>\n",
       "      <td>O6Cxup7UvDVKYWYe8YZaRi1F8xwy7l3aEbB728b_XE4</td>\n",
       "      <td>{'name': 'MarketWatch', 'homepage_url': 'https...</td>\n",
       "      <td>The Chevy Bolt will be gone soon. Good luck fi...</td>\n",
       "      <td>MarketWatch</td>\n",
       "      <td>2023-04-29T14:56:00Z</td>\n",
       "      <td>https://www.marketwatch.com/story/the-chevy-bo...</td>\n",
       "      <td>[GM, TSLA]</td>\n",
       "      <td>https://images.mktw.net/im-771528/social</td>\n",
       "      <td>There's more to General Motors Co.'s Chevy Bol...</td>\n",
       "      <td>NaN</td>\n",
       "      <td>https://www.marketwatch.com/amp/story/the-chev...</td>\n",
       "    </tr>\n",
       "    <tr>\n",
       "      <th>2</th>\n",
       "      <td>QG9GQzKdE_X6v7BP81lBIMR3sVqLHPdABksgEuitW9Y</td>\n",
       "      <td>{'name': 'The Motley Fool', 'homepage_url': 'h...</td>\n",
       "      <td>What Happened to Tesla This Week</td>\n",
       "      <td>newsfeedback@fool.com (Neil Rozenbaum)</td>\n",
       "      <td>2023-04-29T14:15:00Z</td>\n",
       "      <td>https://www.fool.com/investing/2023/04/29/what...</td>\n",
       "      <td>[TSLA, GM]</td>\n",
       "      <td>https://g.foolcdn.com/editorial/images/730171/...</td>\n",
       "      <td>Here's everything you need to know about the E...</td>\n",
       "      <td>[investing]</td>\n",
       "      <td>NaN</td>\n",
       "    </tr>\n",
       "    <tr>\n",
       "      <th>3</th>\n",
       "      <td>l_q6nOB3hIP82uGdQ-1gr7ntvKasLvQRzquwnY_wRGY</td>\n",
       "      <td>{'name': 'The Motley Fool', 'homepage_url': 'h...</td>\n",
       "      <td>2 Things the Smartest Investors Know About Tes...</td>\n",
       "      <td>newsfeedback@fool.com (Lawrence Nga)</td>\n",
       "      <td>2023-04-29T11:40:00Z</td>\n",
       "      <td>https://www.fool.com/investing/2023/04/29/2-th...</td>\n",
       "      <td>[TSLA]</td>\n",
       "      <td>https://g.foolcdn.com/editorial/images/729601/...</td>\n",
       "      <td>Investors should ignore the short-term noise a...</td>\n",
       "      <td>[investing]</td>\n",
       "      <td>NaN</td>\n",
       "    </tr>\n",
       "    <tr>\n",
       "      <th>4</th>\n",
       "      <td>BSgu34YRSTPnXejfg4hQlyqipbK3A86-KaXWrY_jq6g</td>\n",
       "      <td>{'name': 'The Motley Fool', 'homepage_url': 'h...</td>\n",
       "      <td>For Investors, Boring Can Be Wonderful</td>\n",
       "      <td>newsfeedback@fool.com (Chris Hill)</td>\n",
       "      <td>2023-04-29T10:45:00Z</td>\n",
       "      <td>https://www.fool.com/retirement/2023/04/29/for...</td>\n",
       "      <td>[MCD, NFLX, SHW, TSLA, AMZN, VTI, SPY, CPRT, K...</td>\n",
       "      <td>https://g.foolcdn.com/editorial/images/729259/...</td>\n",
       "      <td>\"A company that does boring things is almost a...</td>\n",
       "      <td>[retirement]</td>\n",
       "      <td>NaN</td>\n",
       "    </tr>\n",
       "  </tbody>\n",
       "</table>\n",
       "</div>"
      ],
      "text/plain": [
       "                                            id  \\\n",
       "0  KKZME96u-H-LQOjOdx0dlBK6-dy829kDyQY4_fq_3f8   \n",
       "1  O6Cxup7UvDVKYWYe8YZaRi1F8xwy7l3aEbB728b_XE4   \n",
       "2  QG9GQzKdE_X6v7BP81lBIMR3sVqLHPdABksgEuitW9Y   \n",
       "3  l_q6nOB3hIP82uGdQ-1gr7ntvKasLvQRzquwnY_wRGY   \n",
       "4  BSgu34YRSTPnXejfg4hQlyqipbK3A86-KaXWrY_jq6g   \n",
       "\n",
       "                                           publisher  \\\n",
       "0  {'name': 'The Motley Fool', 'homepage_url': 'h...   \n",
       "1  {'name': 'MarketWatch', 'homepage_url': 'https...   \n",
       "2  {'name': 'The Motley Fool', 'homepage_url': 'h...   \n",
       "3  {'name': 'The Motley Fool', 'homepage_url': 'h...   \n",
       "4  {'name': 'The Motley Fool', 'homepage_url': 'h...   \n",
       "\n",
       "                                               title  \\\n",
       "0                   7 Best Stocks to Buy in May 2023   \n",
       "1  The Chevy Bolt will be gone soon. Good luck fi...   \n",
       "2                   What Happened to Tesla This Week   \n",
       "3  2 Things the Smartest Investors Know About Tes...   \n",
       "4             For Investors, Boring Can Be Wonderful   \n",
       "\n",
       "                                   author         published_utc  \\\n",
       "0       newsfeedback@fool.com (Eric Cuka)  2023-04-29T15:19:08Z   \n",
       "1                             MarketWatch  2023-04-29T14:56:00Z   \n",
       "2  newsfeedback@fool.com (Neil Rozenbaum)  2023-04-29T14:15:00Z   \n",
       "3    newsfeedback@fool.com (Lawrence Nga)  2023-04-29T11:40:00Z   \n",
       "4      newsfeedback@fool.com (Chris Hill)  2023-04-29T10:45:00Z   \n",
       "\n",
       "                                         article_url  \\\n",
       "0  https://www.fool.com/investing/2023/04/29/7-be...   \n",
       "1  https://www.marketwatch.com/story/the-chevy-bo...   \n",
       "2  https://www.fool.com/investing/2023/04/29/what...   \n",
       "3  https://www.fool.com/investing/2023/04/29/2-th...   \n",
       "4  https://www.fool.com/retirement/2023/04/29/for...   \n",
       "\n",
       "                                             tickers  \\\n",
       "0  [TSLA, GOOGL, AMZN, WOLF, GNRC, EVRI, ENPH, GOOG]   \n",
       "1                                         [GM, TSLA]   \n",
       "2                                         [TSLA, GM]   \n",
       "3                                             [TSLA]   \n",
       "4  [MCD, NFLX, SHW, TSLA, AMZN, VTI, SPY, CPRT, K...   \n",
       "\n",
       "                                           image_url  \\\n",
       "0  https://g.foolcdn.com/editorial/images/730217/...   \n",
       "1           https://images.mktw.net/im-771528/social   \n",
       "2  https://g.foolcdn.com/editorial/images/730171/...   \n",
       "3  https://g.foolcdn.com/editorial/images/729601/...   \n",
       "4  https://g.foolcdn.com/editorial/images/729259/...   \n",
       "\n",
       "                                         description      keywords  \\\n",
       "0  Here are 7 stocks to buy now that could unlock...   [investing]   \n",
       "1  There's more to General Motors Co.'s Chevy Bol...           NaN   \n",
       "2  Here's everything you need to know about the E...   [investing]   \n",
       "3  Investors should ignore the short-term noise a...   [investing]   \n",
       "4  \"A company that does boring things is almost a...  [retirement]   \n",
       "\n",
       "                                             amp_url  \n",
       "0                                                NaN  \n",
       "1  https://www.marketwatch.com/amp/story/the-chev...  \n",
       "2                                                NaN  \n",
       "3                                                NaN  \n",
       "4                                                NaN  "
      ]
     },
     "execution_count": 11,
     "metadata": {},
     "output_type": "execute_result"
    }
   ],
   "source": [
    "ticker = \"TSLA\"\n",
    "\n",
    "\n",
    "news = get_ticker_news(ticker, api_key)\n",
    "\n",
    "news.head()"
   ]
  },
  {
   "cell_type": "code",
   "execution_count": null,
   "id": "2d88613a-4e82-487b-af25-07e6c1e7d7ef",
   "metadata": {
    "tags": []
   },
   "outputs": [],
   "source": [
    "createPlot(xvalue=stock_data.date.values, yvalue=stock_data.open.values, xlabel=\"date\", ylabel=\"price\", title=\"Open Prices\")"
   ]
  },
  {
   "cell_type": "code",
   "execution_count": null,
   "id": "6edf3e2d-175c-4250-8cc5-f89163296254",
   "metadata": {},
   "outputs": [],
   "source": []
  }
 ],
 "metadata": {
  "kernelspec": {
   "display_name": "Python 3 (ipykernel)",
   "language": "python",
   "name": "python3"
  },
  "language_info": {
   "codemirror_mode": {
    "name": "ipython",
    "version": 3
   },
   "file_extension": ".py",
   "mimetype": "text/x-python",
   "name": "python",
   "nbconvert_exporter": "python",
   "pygments_lexer": "ipython3",
   "version": "3.9.6"
  }
 },
 "nbformat": 4,
 "nbformat_minor": 5
}
