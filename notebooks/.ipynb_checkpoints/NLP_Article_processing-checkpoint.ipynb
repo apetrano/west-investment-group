{
 "cells": [
  {
   "cell_type": "code",
   "execution_count": 1,
   "id": "76092992-02e4-44e4-9f9d-cafba5009f0b",
   "metadata": {
    "tags": []
   },
   "outputs": [],
   "source": [
    "import requests\n",
    "import sys\n",
    "sys.path.append('../src/')\n",
    "from TWIG_utils import *"
   ]
  },
  {
   "cell_type": "code",
   "execution_count": 2,
   "id": "9672c0fd-54d1-4898-8425-bf965efe46fe",
   "metadata": {
    "tags": []
   },
   "outputs": [],
   "source": [
    "api_key = \"JeeOjlOPBe5aTiQ_Jb39raRqlam45uAO\"\n",
    "client = RESTClient(auth_key=api_key)"
   ]
  },
  {
   "cell_type": "code",
   "execution_count": 3,
   "id": "55233806-6998-45c6-a4e4-77cabbf3aef6",
   "metadata": {
    "tags": []
   },
   "outputs": [],
   "source": [
    "stock_data = read_csv_s3('twig-stockdata', 'sony_daily_stock_prices.csv')"
   ]
  },
  {
   "cell_type": "code",
   "execution_count": 4,
   "id": "5ea81037-8acf-44b2-8668-c697d49e47ce",
   "metadata": {
    "tags": []
   },
   "outputs": [
    {
     "data": {
      "text/html": [
       "<div>\n",
       "<style scoped>\n",
       "    .dataframe tbody tr th:only-of-type {\n",
       "        vertical-align: middle;\n",
       "    }\n",
       "\n",
       "    .dataframe tbody tr th {\n",
       "        vertical-align: top;\n",
       "    }\n",
       "\n",
       "    .dataframe thead th {\n",
       "        text-align: right;\n",
       "    }\n",
       "</style>\n",
       "<table border=\"1\" class=\"dataframe\">\n",
       "  <thead>\n",
       "    <tr style=\"text-align: right;\">\n",
       "      <th></th>\n",
       "      <th>id</th>\n",
       "      <th>publisher</th>\n",
       "      <th>title</th>\n",
       "      <th>author</th>\n",
       "      <th>published_utc</th>\n",
       "      <th>article_url</th>\n",
       "      <th>tickers</th>\n",
       "      <th>amp_url</th>\n",
       "      <th>image_url</th>\n",
       "      <th>description</th>\n",
       "      <th>keywords</th>\n",
       "    </tr>\n",
       "  </thead>\n",
       "  <tbody>\n",
       "    <tr>\n",
       "      <th>0</th>\n",
       "      <td>q6ATLvk-bA4xAtE5eEzR-klqhEE1FAt2KeF9rjeDUQc</td>\n",
       "      <td>{'name': 'Benzinga', 'homepage_url': 'https://...</td>\n",
       "      <td>Hogwarts Legacy Releases On Xbox One And PS4 T...</td>\n",
       "      <td>Franca Quarneti</td>\n",
       "      <td>2023-05-02T22:37:31Z</td>\n",
       "      <td>https://www.benzinga.com/general/entertainment...</td>\n",
       "      <td>[MSFT, WBD, SONY]</td>\n",
       "      <td>https://www.benzinga.com/amp/content/32171220</td>\n",
       "      <td>https://cdn.benzinga.com/files/images/story/20...</td>\n",
       "      <td>Hogwarts Legacy will be released for Sony Grou...</td>\n",
       "      <td>[News, Entertainment, Gaming, General]</td>\n",
       "    </tr>\n",
       "    <tr>\n",
       "      <th>1</th>\n",
       "      <td>JOis5C-ec259XSlknKiOgLgmR4u14tU7lGxB8zk5fto</td>\n",
       "      <td>{'name': 'Benzinga', 'homepage_url': 'https://...</td>\n",
       "      <td>5 Stocks To Keep An Eye On As WGA Strike Could...</td>\n",
       "      <td>Piero Cingari</td>\n",
       "      <td>2023-05-02T15:49:10Z</td>\n",
       "      <td>https://www.benzinga.com/general/entertainment...</td>\n",
       "      <td>[AAPL, AMZN, CMCSA, NFLX, AMC, SONY]</td>\n",
       "      <td>https://www.benzinga.com/amp/content/32163281</td>\n",
       "      <td>https://cdn.benzinga.com/files/images/story/20...</td>\n",
       "      <td>Entertainment stocks were down on Tuesday afte...</td>\n",
       "      <td>[News, Entertainment, Contracts, Top Stories, ...</td>\n",
       "    </tr>\n",
       "    <tr>\n",
       "      <th>2</th>\n",
       "      <td>36Sdlajd5c41WWfs0P9I_huEoS8HzEG5ptZ8bPfT6Ts</td>\n",
       "      <td>{'name': 'Seeking Alpha', 'homepage_url': 'htt...</td>\n",
       "      <td>Wall Street Breakfast Podcast: Yellen Warns U....</td>\n",
       "      <td>Wall Street Breakfast</td>\n",
       "      <td>2023-05-02T10:59:30Z</td>\n",
       "      <td>https://seekingalpha.com/article/4598780-wall-...</td>\n",
       "      <td>[AAPL, AMZN, DIS, JPM, MS, NFLX, SONY, WBD]</td>\n",
       "      <td>NaN</td>\n",
       "      <td>https://static.seekingalpha.com/cdn/s3/uploads...</td>\n",
       "      <td>U.S. government could run out of money, measur...</td>\n",
       "      <td>NaN</td>\n",
       "    </tr>\n",
       "    <tr>\n",
       "      <th>3</th>\n",
       "      <td>__GR3VXvcQhn_NOwJ7CKcExk-Jnea4lJP7USn2cg-CU</td>\n",
       "      <td>{'name': 'MarketWatch', 'homepage_url': 'https...</td>\n",
       "      <td>Hollywood writers go on strike, saying they fa...</td>\n",
       "      <td>MarketWatch</td>\n",
       "      <td>2023-05-02T04:15:00Z</td>\n",
       "      <td>https://www.marketwatch.com/story/hollywood-wr...</td>\n",
       "      <td>[NFLX, AMZN, AAPL, DIS, WBD, CMCSA, PARA, SONY]</td>\n",
       "      <td>https://www.marketwatch.com/amp/story/hollywoo...</td>\n",
       "      <td>https://images.mktw.net/im-773863/social</td>\n",
       "      <td>Hollywood writers will strike for the first ti...</td>\n",
       "      <td>NaN</td>\n",
       "    </tr>\n",
       "    <tr>\n",
       "      <th>4</th>\n",
       "      <td>YFtG9y5GUZSuAy0a9hIoinWYUqQGDVC1EWBEW1zyfJc</td>\n",
       "      <td>{'name': 'Benzinga', 'homepage_url': 'https://...</td>\n",
       "      <td>Sony Reveals PS5 Sales Numbers, Sets Sights On...</td>\n",
       "      <td>Franca Quarneti</td>\n",
       "      <td>2023-05-01T19:14:50Z</td>\n",
       "      <td>https://www.benzinga.com/general/gaming/23/05/...</td>\n",
       "      <td>[SONY]</td>\n",
       "      <td>https://www.benzinga.com/amp/content/32128983</td>\n",
       "      <td>https://cdn.benzinga.com/files/images/story/20...</td>\n",
       "      <td>In its latest earnings report, Sony Group Corp...</td>\n",
       "      <td>[News, Gaming, Global, General]</td>\n",
       "    </tr>\n",
       "    <tr>\n",
       "      <th>5</th>\n",
       "      <td>bp_eGT-S0VJ1WNCMG1walHqfxAW4KyFVXTXiNxjfPP0</td>\n",
       "      <td>{'name': 'The Motley Fool', 'homepage_url': 'h...</td>\n",
       "      <td>Reviewing Stock Samplers With \"Rule Breaker In...</td>\n",
       "      <td>newsfeedback@fool.com (Motley Fool Staff)</td>\n",
       "      <td>2023-04-29T13:46:00Z</td>\n",
       "      <td>https://www.fool.com/retirement/2023/04/29/rev...</td>\n",
       "      <td>[AXON, AAPL, NFLX, DIS, BKNG, AVAV, SONY, RJF,...</td>\n",
       "      <td>NaN</td>\n",
       "      <td>https://g.foolcdn.com/editorial/images/728260/...</td>\n",
       "      <td>How have the stocks in \"5 Stocks for the Coron...</td>\n",
       "      <td>[retirement]</td>\n",
       "    </tr>\n",
       "    <tr>\n",
       "      <th>6</th>\n",
       "      <td>sbhMjUy88WaF1cwRFJH-yTy2XBhET4K1PqVNh6YVfd8</td>\n",
       "      <td>{'name': 'Benzinga', 'homepage_url': 'https://...</td>\n",
       "      <td>Why First Republic Bank Shares Are Trading Low...</td>\n",
       "      <td>Lisa Levin</td>\n",
       "      <td>2023-04-28T17:11:24Z</td>\n",
       "      <td>https://www.benzinga.com/news/23/04/32089399/w...</td>\n",
       "      <td>[GSUN, PINS, APLT, ILAG, NYCB, AGBA, NBY, MEGL...</td>\n",
       "      <td>https://www.benzinga.com/amp/content/32089399</td>\n",
       "      <td>https://cdn.benzinga.com/files/images/story/20...</td>\n",
       "      <td>Gainers\\n\\nMagic Empire Global Limited (NASDAQ...</td>\n",
       "      <td>[News, Penny Stocks, Small Cap, Intraday Updat...</td>\n",
       "    </tr>\n",
       "    <tr>\n",
       "      <th>7</th>\n",
       "      <td>olepz0mpvxV1kQGHrhtk05n9cT-gxFiQ1ymJ2idzaYQ</td>\n",
       "      <td>{'name': 'Benzinga', 'homepage_url': 'https://...</td>\n",
       "      <td>Microsoft/Activision Deal Questioned By UK's C...</td>\n",
       "      <td>Franca Quarneti</td>\n",
       "      <td>2023-04-28T16:54:26Z</td>\n",
       "      <td>https://www.benzinga.com/general/gaming/23/04/...</td>\n",
       "      <td>[ATVI, MSFT, SONY]</td>\n",
       "      <td>https://www.benzinga.com/amp/content/32088418</td>\n",
       "      <td>https://cdn.benzinga.com/files/images/story/20...</td>\n",
       "      <td>Microsoft Corp.'s (NASDAQ: MSFT) plans to acqu...</td>\n",
       "      <td>[News, M&amp;A, Gaming, Global, Top Stories, General]</td>\n",
       "    </tr>\n",
       "    <tr>\n",
       "      <th>8</th>\n",
       "      <td>vLcSj59AhDZS_EF0JK-re0-LAt5JKfPrL026-dI7zLw</td>\n",
       "      <td>{'name': 'Zacks Investment Research', 'homepag...</td>\n",
       "      <td>SONY's Q4 Earnings and Revenues Beat Estimates...</td>\n",
       "      <td>Zacks Equity Research</td>\n",
       "      <td>2023-04-28T15:33:00Z</td>\n",
       "      <td>https://www.zacks.com/stock/news/2087001/sonys...</td>\n",
       "      <td>[CRM, ASUR, ANET, SONY]</td>\n",
       "      <td>https://www.zacks.com/amp/stock/news/2087001/s...</td>\n",
       "      <td>https://staticx-tuner.zacks.com/images/article...</td>\n",
       "      <td>SONY's fourth-quarter fiscal 2022 performance ...</td>\n",
       "      <td>NaN</td>\n",
       "    </tr>\n",
       "    <tr>\n",
       "      <th>9</th>\n",
       "      <td>ZKNZA1A4mC5DBicR-iw8rMEcVlQJ5KkUuNvMV7pkRFQ</td>\n",
       "      <td>{'name': 'Benzinga', 'homepage_url': 'https://...</td>\n",
       "      <td>Economic Growth Slows, Inflation Persists, Sto...</td>\n",
       "      <td>GRIT Capital</td>\n",
       "      <td>2023-04-28T14:37:07Z</td>\n",
       "      <td>https://www.benzinga.com/economics/macro-econo...</td>\n",
       "      <td>[AMZN, AVTR, INTC, CCJ, CL, CVX, TRP, WPC, XOM...</td>\n",
       "      <td>https://www.benzinga.com/amp/content/32084939</td>\n",
       "      <td>https://cdn.benzinga.com/files/images/story/20...</td>\n",
       "      <td>The economy is slowing. The financial system i...</td>\n",
       "      <td>[News, Macro Economic Events, Economics, Marke...</td>\n",
       "    </tr>\n",
       "  </tbody>\n",
       "</table>\n",
       "</div>"
      ],
      "text/plain": [
       "                                            id  \\\n",
       "0  q6ATLvk-bA4xAtE5eEzR-klqhEE1FAt2KeF9rjeDUQc   \n",
       "1  JOis5C-ec259XSlknKiOgLgmR4u14tU7lGxB8zk5fto   \n",
       "2  36Sdlajd5c41WWfs0P9I_huEoS8HzEG5ptZ8bPfT6Ts   \n",
       "3  __GR3VXvcQhn_NOwJ7CKcExk-Jnea4lJP7USn2cg-CU   \n",
       "4  YFtG9y5GUZSuAy0a9hIoinWYUqQGDVC1EWBEW1zyfJc   \n",
       "5  bp_eGT-S0VJ1WNCMG1walHqfxAW4KyFVXTXiNxjfPP0   \n",
       "6  sbhMjUy88WaF1cwRFJH-yTy2XBhET4K1PqVNh6YVfd8   \n",
       "7  olepz0mpvxV1kQGHrhtk05n9cT-gxFiQ1ymJ2idzaYQ   \n",
       "8  vLcSj59AhDZS_EF0JK-re0-LAt5JKfPrL026-dI7zLw   \n",
       "9  ZKNZA1A4mC5DBicR-iw8rMEcVlQJ5KkUuNvMV7pkRFQ   \n",
       "\n",
       "                                           publisher  \\\n",
       "0  {'name': 'Benzinga', 'homepage_url': 'https://...   \n",
       "1  {'name': 'Benzinga', 'homepage_url': 'https://...   \n",
       "2  {'name': 'Seeking Alpha', 'homepage_url': 'htt...   \n",
       "3  {'name': 'MarketWatch', 'homepage_url': 'https...   \n",
       "4  {'name': 'Benzinga', 'homepage_url': 'https://...   \n",
       "5  {'name': 'The Motley Fool', 'homepage_url': 'h...   \n",
       "6  {'name': 'Benzinga', 'homepage_url': 'https://...   \n",
       "7  {'name': 'Benzinga', 'homepage_url': 'https://...   \n",
       "8  {'name': 'Zacks Investment Research', 'homepag...   \n",
       "9  {'name': 'Benzinga', 'homepage_url': 'https://...   \n",
       "\n",
       "                                               title  \\\n",
       "0  Hogwarts Legacy Releases On Xbox One And PS4 T...   \n",
       "1  5 Stocks To Keep An Eye On As WGA Strike Could...   \n",
       "2  Wall Street Breakfast Podcast: Yellen Warns U....   \n",
       "3  Hollywood writers go on strike, saying they fa...   \n",
       "4  Sony Reveals PS5 Sales Numbers, Sets Sights On...   \n",
       "5  Reviewing Stock Samplers With \"Rule Breaker In...   \n",
       "6  Why First Republic Bank Shares Are Trading Low...   \n",
       "7  Microsoft/Activision Deal Questioned By UK's C...   \n",
       "8  SONY's Q4 Earnings and Revenues Beat Estimates...   \n",
       "9  Economic Growth Slows, Inflation Persists, Sto...   \n",
       "\n",
       "                                      author         published_utc  \\\n",
       "0                            Franca Quarneti  2023-05-02T22:37:31Z   \n",
       "1                              Piero Cingari  2023-05-02T15:49:10Z   \n",
       "2                      Wall Street Breakfast  2023-05-02T10:59:30Z   \n",
       "3                                MarketWatch  2023-05-02T04:15:00Z   \n",
       "4                            Franca Quarneti  2023-05-01T19:14:50Z   \n",
       "5  newsfeedback@fool.com (Motley Fool Staff)  2023-04-29T13:46:00Z   \n",
       "6                                 Lisa Levin  2023-04-28T17:11:24Z   \n",
       "7                            Franca Quarneti  2023-04-28T16:54:26Z   \n",
       "8                      Zacks Equity Research  2023-04-28T15:33:00Z   \n",
       "9                               GRIT Capital  2023-04-28T14:37:07Z   \n",
       "\n",
       "                                         article_url  \\\n",
       "0  https://www.benzinga.com/general/entertainment...   \n",
       "1  https://www.benzinga.com/general/entertainment...   \n",
       "2  https://seekingalpha.com/article/4598780-wall-...   \n",
       "3  https://www.marketwatch.com/story/hollywood-wr...   \n",
       "4  https://www.benzinga.com/general/gaming/23/05/...   \n",
       "5  https://www.fool.com/retirement/2023/04/29/rev...   \n",
       "6  https://www.benzinga.com/news/23/04/32089399/w...   \n",
       "7  https://www.benzinga.com/general/gaming/23/04/...   \n",
       "8  https://www.zacks.com/stock/news/2087001/sonys...   \n",
       "9  https://www.benzinga.com/economics/macro-econo...   \n",
       "\n",
       "                                             tickers  \\\n",
       "0                                  [MSFT, WBD, SONY]   \n",
       "1               [AAPL, AMZN, CMCSA, NFLX, AMC, SONY]   \n",
       "2        [AAPL, AMZN, DIS, JPM, MS, NFLX, SONY, WBD]   \n",
       "3    [NFLX, AMZN, AAPL, DIS, WBD, CMCSA, PARA, SONY]   \n",
       "4                                             [SONY]   \n",
       "5  [AXON, AAPL, NFLX, DIS, BKNG, AVAV, SONY, RJF,...   \n",
       "6  [GSUN, PINS, APLT, ILAG, NYCB, AGBA, NBY, MEGL...   \n",
       "7                                 [ATVI, MSFT, SONY]   \n",
       "8                            [CRM, ASUR, ANET, SONY]   \n",
       "9  [AMZN, AVTR, INTC, CCJ, CL, CVX, TRP, WPC, XOM...   \n",
       "\n",
       "                                             amp_url  \\\n",
       "0      https://www.benzinga.com/amp/content/32171220   \n",
       "1      https://www.benzinga.com/amp/content/32163281   \n",
       "2                                                NaN   \n",
       "3  https://www.marketwatch.com/amp/story/hollywoo...   \n",
       "4      https://www.benzinga.com/amp/content/32128983   \n",
       "5                                                NaN   \n",
       "6      https://www.benzinga.com/amp/content/32089399   \n",
       "7      https://www.benzinga.com/amp/content/32088418   \n",
       "8  https://www.zacks.com/amp/stock/news/2087001/s...   \n",
       "9      https://www.benzinga.com/amp/content/32084939   \n",
       "\n",
       "                                           image_url  \\\n",
       "0  https://cdn.benzinga.com/files/images/story/20...   \n",
       "1  https://cdn.benzinga.com/files/images/story/20...   \n",
       "2  https://static.seekingalpha.com/cdn/s3/uploads...   \n",
       "3           https://images.mktw.net/im-773863/social   \n",
       "4  https://cdn.benzinga.com/files/images/story/20...   \n",
       "5  https://g.foolcdn.com/editorial/images/728260/...   \n",
       "6  https://cdn.benzinga.com/files/images/story/20...   \n",
       "7  https://cdn.benzinga.com/files/images/story/20...   \n",
       "8  https://staticx-tuner.zacks.com/images/article...   \n",
       "9  https://cdn.benzinga.com/files/images/story/20...   \n",
       "\n",
       "                                         description  \\\n",
       "0  Hogwarts Legacy will be released for Sony Grou...   \n",
       "1  Entertainment stocks were down on Tuesday afte...   \n",
       "2  U.S. government could run out of money, measur...   \n",
       "3  Hollywood writers will strike for the first ti...   \n",
       "4  In its latest earnings report, Sony Group Corp...   \n",
       "5  How have the stocks in \"5 Stocks for the Coron...   \n",
       "6  Gainers\\n\\nMagic Empire Global Limited (NASDAQ...   \n",
       "7  Microsoft Corp.'s (NASDAQ: MSFT) plans to acqu...   \n",
       "8  SONY's fourth-quarter fiscal 2022 performance ...   \n",
       "9  The economy is slowing. The financial system i...   \n",
       "\n",
       "                                            keywords  \n",
       "0             [News, Entertainment, Gaming, General]  \n",
       "1  [News, Entertainment, Contracts, Top Stories, ...  \n",
       "2                                                NaN  \n",
       "3                                                NaN  \n",
       "4                    [News, Gaming, Global, General]  \n",
       "5                                       [retirement]  \n",
       "6  [News, Penny Stocks, Small Cap, Intraday Updat...  \n",
       "7  [News, M&A, Gaming, Global, Top Stories, General]  \n",
       "8                                                NaN  \n",
       "9  [News, Macro Economic Events, Economics, Marke...  "
      ]
     },
     "execution_count": 4,
     "metadata": {},
     "output_type": "execute_result"
    }
   ],
   "source": [
    "ticker = stock_data['ticker'][0]\n",
    "date='2023-05-02'\n",
    "\n",
    "def ticker_news(ticker, api_key):\n",
    "    url = f\"https://api.polygon.io/v2/reference/news?ticker={ticker}&apiKey={api_key}\"\n",
    "    response = requests.get(url)\n",
    "\n",
    "    if response.status_code != 200:\n",
    "        print(f\"Error: Request returned status code {response.status_code}\")\n",
    "    else:\n",
    "        news_items = response.json()['results']\n",
    "\n",
    "    return pd.DataFrame(news_items)\n",
    "\n",
    "news = ticker_news(ticker, api_key)\n",
    "\n",
    "news"
   ]
  },
  {
   "cell_type": "code",
   "execution_count": 5,
   "id": "00899a08-4e0b-4790-9592-ff59b68e75d8",
   "metadata": {
    "tags": []
   },
   "outputs": [
    {
     "data": {
      "text/plain": [
       "'Hogwarts Legacy will be released for\\xa0Sony Group Corp.\\'s\\xa0SONY PlayStation 4 (PS4) and Microsoft Corp.\\'s\\xa0MSFT Xbox One on May 5, 2023.\\xa0 The game was developed by Avalanche Software and published by\\xa0Portkey Games, part of\\xa0Warner Bros\\xa0Discovery Inc.\\'s WBD games division. If you\\'re a fan of the Harry Potter saga and a gaming enthusiast you\\'ve probably heard about the game that had its official release on Feb. 10 for PlayStation 5 (PS5), Xbox Series X and S, and PC players. The game\\xa0allows players to explore the castle grounds, master spells and interact with fellow students as they uncover the secrets of the Wizarding World. See Also:\\xa0The Most Anticipated Game Of 2023: Everything You Need To Know About Hogwarts Legacy Although the game was supposed to be released earlier on PlayStation 4 and Xbox One, the developer delayed it to improve the game\\'s performance on older consoles. Meanwhile,\\xa0it won\\'t be available on Nintendo ADR\\'s\\xa0NTDOY\\xa0Switch until July 25. \"We’re overwhelmed with gratitude for the response to Hogwarts Legacy from fans around the globe. The team is working hard to deliver the best possible experience on all platforms and we need more time to do this. Hogwarts Legacy will launch for PS4 and Xbox One May 5, 2023,\" Hogwarts Legacy\\'s official account tweeted.  The title has broken multiple records, like being the most-sold Harry Potter game in history: Hogwarts Legacy had\\xa0been acquired 64% more than Harry Potter and the Sorcerer’s Stone,\\xa0the first video game of the franchise published in 2001 and the previous most popular game. Hogwarts Legacy\\xa0has also become the year-to-date bestseller. This impressive feat comes on the back of the game\\'s global launch in mid-February, where it sold more than\\xa012 million copies in just two weeks despite facing controversy before its release. Furthermore, the title sold 80% more than last year’s major fantasy game, Bandai Namco\\'s\\xa0NCBDY Elden Ring. Which console sold the most? Eight-two percent\\xa0of Hogwarts Legacy\\xa0sales were on PS5, with the remaining 18% on Xbox Series S and X. Hogwarts Legacy also\\xa0set a record on Twitch for the most-watched single-player game, with 1.3 million viewers concurrently. Arien Darby, senior brand and marketing manager at\\xa0Warner Bros. Games, revealed on LinkedIn that the game sold 256% more than predicted. See Also:\\xa0Hogwarts Legacy Shatters Records As The Most Sold Harry Potter Game of All Time Photo: Zatria and Miguel Lagoa on Shutterstock © 2023 Benzinga.com. Benzinga does not provide investment advice. All rights reserved.'"
      ]
     },
     "execution_count": 5,
     "metadata": {},
     "output_type": "execute_result"
    }
   ],
   "source": [
    "ticker_news = get_ticker_news(ticker, api_key, date)\n",
    "\n",
    "ticker_news['Articles'][0]"
   ]
  },
  {
   "cell_type": "code",
   "execution_count": null,
   "id": "2d88613a-4e82-487b-af25-07e6c1e7d7ef",
   "metadata": {
    "tags": []
   },
   "outputs": [],
   "source": [
    "createPlot(xvalue=stock_data.date.values, yvalue=stock_data.open.values, xlabel=\"date\", ylabel=\"price\", title=\"Open Prices\")"
   ]
  },
  {
   "cell_type": "code",
   "execution_count": 13,
   "id": "6edf3e2d-175c-4250-8cc5-f89163296254",
   "metadata": {},
   "outputs": [],
   "source": [
    "import nltk\n",
    "import spacy\n",
    "import re"
   ]
  },
  {
   "cell_type": "code",
   "execution_count": 9,
   "id": "a68bc1b4",
   "metadata": {},
   "outputs": [],
   "source": [
    "nlp = spacy.load(\"en_core_web_sm\")\n"
   ]
  },
  {
   "cell_type": "code",
   "execution_count": 14,
   "id": "9a8250c9",
   "metadata": {},
   "outputs": [],
   "source": [
    "article = ticker_news['Articles'][0]"
   ]
  },
  {
   "cell_type": "code",
   "execution_count": 21,
   "id": "832696c1",
   "metadata": {},
   "outputs": [],
   "source": [
    "clean_article = re.sub('[^A-Za-z0-9]+', ' ', article.lower())"
   ]
  },
  {
   "cell_type": "code",
   "execution_count": 30,
   "id": "ac5ea726",
   "metadata": {},
   "outputs": [],
   "source": [
    "def normalize(comment, lowercase, remove_stopwords, stops):\n",
    "    pattern = r'[0-9]'\n",
    "    if lowercase:\n",
    "        comment = comment.lower()\n",
    "    comment = nlp(comment)\n",
    "    lemmatized = list()\n",
    "    for word in comment:\n",
    "        lemma = word.lemma_.strip()\n",
    "        if lemma:\n",
    "            if not remove_stopwords or (remove_stopwords and lemma not in stops):\n",
    "                lemmatized.append(lemma)\n",
    "    text = \" \".join(lemmatized)\n",
    "    return re.sub(pattern, '', text)\n"
   ]
  },
  {
   "cell_type": "code",
   "execution_count": 31,
   "id": "239e14e2",
   "metadata": {},
   "outputs": [],
   "source": [
    "norm_artical = normalize(clean_article, True, True, nlp.Defaults.stop_words)"
   ]
  },
  {
   "cell_type": "code",
   "execution_count": 32,
   "id": "13ee42db",
   "metadata": {},
   "outputs": [
    {
     "data": {
      "text/plain": [
       "'hogwart legacy release sony group corp s sony playstation  ps microsoft corp s msft xbox   game develop avalanche software publish portkey game warner bros discovery inc s wbd games division fan harry potter saga gaming enthusiast ve probably hear game official release feb  playstation  ps xbox series x s pc player game allow player explore castle ground master spell interact fellow student uncover secret wizarde world anticipated game  need know hogwart legacy game suppose release early playstation  xbox developer delay improve game s performance old console win t available nintendo adr s ntdoy switch july  overwhelmed gratitude response hogwart legacy fan globe team work hard deliver good possible experience platform need time hogwart legacy launch ps xbox   hogwart legacy s official account tweet title break multiple record like sell harry potter game history hogwart legacy acquire  harry potter sorcerer s stone video game franchise publish  previous popular game hogwart legacy year date bestseller impressive feat come game s global launch mid february sell  million copy week despite face controversy release furthermore title sell  year s major fantasy game bandai namco s ncbdy elden ring console sell percent hogwart legacy sale ps remain  xbox series s x hogwart legacy set record twitch watch single player game   million viewer concurrently arien darby senior brand marketing manager warner bros games reveal linkedin game sell  predict hogwart legacy shatter record sell harry potter game time photo zatria miguel lagoa shutterstock  benzinga com benzinga provide investment advice right reserve'"
      ]
     },
     "execution_count": 32,
     "metadata": {},
     "output_type": "execute_result"
    }
   ],
   "source": [
    "norm_artical"
   ]
  },
  {
   "cell_type": "code",
   "execution_count": 33,
   "id": "3fb374a5",
   "metadata": {},
   "outputs": [],
   "source": [
    "tokens = nlp(\"king queen man woman\")"
   ]
  },
  {
   "cell_type": "code",
   "execution_count": 34,
   "id": "1632993b",
   "metadata": {},
   "outputs": [
    {
     "name": "stdout",
     "output_type": "stream",
     "text": [
      "king queen man woman [-0.6798424 -0.9543749 -0.2651015] 6.0655768512767585\n"
     ]
    }
   ],
   "source": [
    "print(tokens.text, tokens.vector[:3], tokens.vector_norm)"
   ]
  },
  {
   "cell_type": "code",
   "execution_count": 38,
   "id": "46946a7c",
   "metadata": {},
   "outputs": [
    {
     "name": "stdout",
     "output_type": "stream",
     "text": [
      "king [-0.8084179  -1.1996998   0.05063823  0.35260552 -0.6783676 ] 8.238212\n",
      "queen [ 0.16560271 -0.39532307 -0.2962954   0.7677556  -0.49089447] 7.5037384\n",
      "man [-0.2720167  -1.1949191  -0.13259776  1.0186567  -0.58664477] 7.2855353\n",
      "woman [-1.8045378  -1.0275578  -0.6821511  -0.2831235  -0.13880792] 7.9790134\n"
     ]
    }
   ],
   "source": [
    "for token in tokens:\n",
    "    print(token.text, token.vector[:5], token.vector_norm)"
   ]
  },
  {
   "cell_type": "code",
   "execution_count": 41,
   "id": "df2eedc9",
   "metadata": {},
   "outputs": [],
   "source": [
    "test = tokens[0].vector - tokens[2].vector + tokens[3].vector"
   ]
  },
  {
   "cell_type": "code",
   "execution_count": null,
   "id": "53d97bc6",
   "metadata": {},
   "outputs": [],
   "source": []
  }
 ],
 "metadata": {
  "kernelspec": {
   "display_name": "Python 3 (ipykernel)",
   "language": "python",
   "name": "python3"
  },
  "language_info": {
   "codemirror_mode": {
    "name": "ipython",
    "version": 3
   },
   "file_extension": ".py",
   "mimetype": "text/x-python",
   "name": "python",
   "nbconvert_exporter": "python",
   "pygments_lexer": "ipython3",
   "version": "3.7.5"
  }
 },
 "nbformat": 4,
 "nbformat_minor": 5
}
