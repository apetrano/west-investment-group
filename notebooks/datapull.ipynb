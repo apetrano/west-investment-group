{
 "cells": [
  {
   "cell_type": "code",
   "execution_count": 3,
   "id": "1401e60f-ed42-40e8-a063-ae3254e8e277",
   "metadata": {
    "tags": []
   },
   "outputs": [],
   "source": [
    "import pandas as pd\n",
    "import numpy as np\n",
    "import requests\n",
    "import matplotlib.pyplot as plt\n",
    "from polygon import RESTClient\n",
    "import json\n",
    "import time\n",
    "from sklearn.linear_model import LinearRegression\n",
    "pd.set_option('display.float_format', lambda x: '%.3f' % x)"
   ]
  },
  {
   "cell_type": "code",
   "execution_count": 4,
   "id": "b0bd184d-c1a3-4d81-9d28-a0aa128f0f58",
   "metadata": {
    "tags": []
   },
   "outputs": [],
   "source": [
    "# Function to get data for a single ticker\n",
    "\n",
    "def getTickerDailyData(client, ticker=\"IBM\", start=\"2023-01-01\", end=\"2023-02-01\"):\n",
    "    print(f'Starting data pull for {ticker}...')\n",
    "    start = time.time()\n",
    "    data = []\n",
    "    date_range = pd.date_range(start, end, freq='B')\n",
    "    for business_day in date_range:\n",
    "        try:\n",
    "            response = client.stocks_equities_daily_open_close(symbol=ticker, date=str(business_day)[0:10])\n",
    "            data.append([pd.to_datetime(response.from_) ,response.open, response.close, response.high, response.low, ticker])\n",
    "        except:\n",
    "            continue\n",
    "    elapsed_time = time.time() - start_time\n",
    "    print(f'Function run time:{time.strftime(\"%H:%M:%S\", time.gmtime(elapsed_time))}')\n",
    "    return pd.DataFrame(data, columns=['date', 'open', 'close', 'high', 'low', 'ticker'])\n",
    "    "
   ]
  },
  {
   "cell_type": "code",
   "execution_count": null,
   "id": "67e52ed8",
   "metadata": {},
   "outputs": [
    {
     "name": "stdout",
     "output_type": "stream",
     "text": [
      "Starting data pull for F...\n"
     ]
    }
   ],
   "source": [
    "# Get data from start_date to end_date for the ticker\n",
    "\n",
    "client = RESTClient(auth_key=\"JeeOjlOPBe5aTiQ_Jb39raRqlam45uAO\")\n",
    "ticker = \"F\"\n",
    "start_date = \"2018-01-01\"\n",
    "end_date = \"2023-02-01\"\n",
    "\n",
    "ezpw_data = getTickerDailyData(client, ticker=ticker, start=start_date, end=end_date)"
   ]
  },
  {
   "cell_type": "code",
   "execution_count": null,
   "id": "0f01b735",
   "metadata": {
    "tags": []
   },
   "outputs": [],
   "source": [
    "# Function that takes in two values from the ticker data and plots them\n",
    "\n",
    "def createPlot(xvalue, yvalue, xlabel, ylabel, title):\n",
    "    fig, ax = plt.subplots()\n",
    "    ax.plot(xvalue, yvalue)\n",
    "\n",
    "    ax.set(xlabel=xlabel, ylabel=ylabel, title=title)\n",
    "    for tick in ax.get_xticklabels():\n",
    "        tick.set_rotation(45)\n",
    "    ax.grid()\n",
    "    fig.tight_layout()\n",
    "    plt.show()"
   ]
  },
  {
   "cell_type": "code",
   "execution_count": null,
   "id": "e1be3829-8d75-4758-8a3b-a830db61ee07",
   "metadata": {
    "tags": []
   },
   "outputs": [],
   "source": [
    "createPlot(xvalue=ezpw_data.date.values, yvalue=ezpw_data.open.values, xlabel=\"date\", ylabel=\"price\", title=\"Open Prices\")"
   ]
  },
  {
   "cell_type": "markdown",
   "id": "cf5f52f4",
   "metadata": {},
   "source": [
    " Build Model"
   ]
  },
  {
   "cell_type": "markdown",
   "id": "ba869f75",
   "metadata": {},
   "source": [
    "Our first model, will be a SA-ARISMA model using only the series itself, predicting one day in advance then incorporating that data into its next daily prediction. Seasonally Adjusted, Autoregressive, Integrated, Simple moving average model. "
   ]
  },
  {
   "cell_type": "code",
   "execution_count": null,
   "id": "3f26a5ee",
   "metadata": {},
   "outputs": [],
   "source": [
    "ezpw_data.head()\n",
    "\n",
    "ezpw_data_open = ezpw_data[['date', 'open', 'ticker']]"
   ]
  },
  {
   "cell_type": "code",
   "execution_count": null,
   "id": "977e942c",
   "metadata": {},
   "outputs": [],
   "source": [
    "ezpw_data_open.head()"
   ]
  },
  {
   "cell_type": "code",
   "execution_count": null,
   "id": "7301c61f",
   "metadata": {},
   "outputs": [],
   "source": [
    "ezpw_data_open[\"ar1\"] = ezpw_data_open['open'].shift(1)\n",
    "ezpw_data_open[\"ar2\"] = ezpw_data_open['open'].shift(2)\n",
    "ezpw_data_open[\"ar3\"] = ezpw_data_open['open'].shift(3)\n",
    "ezpw_data_open[\"ar4\"] = ezpw_data_open['open'].shift(4)\n",
    "ezpw_data_open[\"SMA\"] = ezpw_data_open['ar1'].rolling(5).mean()\n",
    "ezpw_data_open[\"int\"] = ezpw_data_open.ar1 - ezpw_data_open.ar2\n",
    "ezpw_data_open['intercept'] = np.ones(len(ezpw_data_open))"
   ]
  },
  {
   "cell_type": "code",
   "execution_count": null,
   "id": "7420e71f",
   "metadata": {},
   "outputs": [],
   "source": [
    "ezpw_data_open.head()"
   ]
  },
  {
   "cell_type": "code",
   "execution_count": null,
   "id": "221fcc75",
   "metadata": {},
   "outputs": [],
   "source": [
    "ezpw_data_open.shape"
   ]
  },
  {
   "cell_type": "code",
   "execution_count": null,
   "id": "f52f71cc",
   "metadata": {},
   "outputs": [],
   "source": [
    "train_data = ezpw_data_open[5:500]"
   ]
  },
  {
   "cell_type": "code",
   "execution_count": null,
   "id": "1838ddd7",
   "metadata": {},
   "outputs": [],
   "source": [
    "train_data.head()"
   ]
  },
  {
   "cell_type": "code",
   "execution_count": null,
   "id": "ee0fe8a1",
   "metadata": {},
   "outputs": [],
   "source": [
    "reg = LinearRegression()"
   ]
  },
  {
   "cell_type": "code",
   "execution_count": null,
   "id": "3828801b",
   "metadata": {},
   "outputs": [],
   "source": [
    "fit_model = reg.fit(train_data[['ar1','ar2', 'SMA', 'int']], train_data[['open']])"
   ]
  },
  {
   "cell_type": "code",
   "execution_count": null,
   "id": "5312e918",
   "metadata": {},
   "outputs": [],
   "source": [
    "fit_model.coef_"
   ]
  },
  {
   "cell_type": "code",
   "execution_count": null,
   "id": "42f8aa0a",
   "metadata": {},
   "outputs": [],
   "source": [
    "fit_model.intercept_"
   ]
  },
  {
   "cell_type": "code",
   "execution_count": null,
   "id": "0549d6dd",
   "metadata": {},
   "outputs": [],
   "source": [
    "fit_model.get_params()"
   ]
  },
  {
   "cell_type": "code",
   "execution_count": null,
   "id": "6e118d08",
   "metadata": {},
   "outputs": [],
   "source": [
    "train_data['prediction_insample'] = fit_model.predict(train_data[['ar1','ar2', 'SMA', 'int']])"
   ]
  },
  {
   "cell_type": "code",
   "execution_count": null,
   "id": "b41173a8",
   "metadata": {},
   "outputs": [],
   "source": [
    "train_data.head()"
   ]
  },
  {
   "cell_type": "code",
   "execution_count": null,
   "id": "a2f5de76",
   "metadata": {},
   "outputs": [],
   "source": [
    "train_data['error'] = train_data.open - train_data.prediction_insample\n",
    "train_data['sq_error'] = train_data['error']**2\n",
    "train_data['abs_error'] = np.abs(train_data['error'])"
   ]
  },
  {
   "cell_type": "code",
   "execution_count": null,
   "id": "12a10eab",
   "metadata": {},
   "outputs": [],
   "source": [
    "train_data"
   ]
  },
  {
   "cell_type": "code",
   "execution_count": null,
   "id": "68b852cd",
   "metadata": {},
   "outputs": [],
   "source": [
    "train_data[['error', 'sq_error', 'abs_error']].mean()"
   ]
  },
  {
   "cell_type": "code",
   "execution_count": null,
   "id": "8ea18917",
   "metadata": {},
   "outputs": [],
   "source": [
    "fig, ax = plt.subplots()\n",
    "ax.plot(train_data.date.values[:20], train_data.open.values[:20])\n",
    "ax.plot(train_data.date.values[:20], train_data.prediction_insample.values[:20])\n",
    "\n",
    "ax.set(xlabel='date', ylabel='price', title=\"Open Prices\")\n",
    "for tick in ax.get_xticklabels():\n",
    "    tick.set_rotation(45)\n",
    "ax.grid()\n",
    "fig.tight_layout()\n",
    "plt.show()"
   ]
  },
  {
   "cell_type": "code",
   "execution_count": null,
   "id": "4a663d42",
   "metadata": {},
   "outputs": [],
   "source": [
    "test_data = ezpw_data_open[500:]"
   ]
  },
  {
   "cell_type": "code",
   "execution_count": null,
   "id": "d661299a",
   "metadata": {},
   "outputs": [],
   "source": [
    "test_data"
   ]
  },
  {
   "cell_type": "code",
   "execution_count": null,
   "id": "3ccfb918",
   "metadata": {},
   "outputs": [],
   "source": [
    "test_data['prediction_oos'] = fit_model.predict(test_data[['ar1','ar2', 'SMA', 'int']])"
   ]
  },
  {
   "cell_type": "code",
   "execution_count": null,
   "id": "751ffce2",
   "metadata": {},
   "outputs": [],
   "source": [
    "test_data.head()"
   ]
  },
  {
   "cell_type": "code",
   "execution_count": null,
   "id": "c32350c0",
   "metadata": {},
   "outputs": [],
   "source": [
    "test_data['error'] = test_data.open - test_data.prediction_oos\n",
    "test_data['sq_error'] = test_data['error']**2\n",
    "test_data['abs_error'] = np.abs(test_data['error'])"
   ]
  },
  {
   "cell_type": "code",
   "execution_count": null,
   "id": "2d2c7186",
   "metadata": {},
   "outputs": [],
   "source": [
    "test_data"
   ]
  },
  {
   "cell_type": "code",
   "execution_count": null,
   "id": "dc587229",
   "metadata": {},
   "outputs": [],
   "source": [
    "test_data[['error', 'sq_error', 'abs_error']].mean()"
   ]
  },
  {
   "cell_type": "code",
   "execution_count": null,
   "id": "31c675f3",
   "metadata": {},
   "outputs": [],
   "source": [
    "fig, ax = plt.subplots()\n",
    "ax.plot(test_data.date.values[:20], test_data.open.values[:20])\n",
    "ax.plot(test_data.date.values[:20], test_data.prediction_oos.values[:20])\n",
    "\n",
    "ax.set(xlabel='date', ylabel='price', title=\"Open Prices\")\n",
    "for tick in ax.get_xticklabels():\n",
    "    tick.set_rotation(45)\n",
    "ax.grid()\n",
    "fig.tight_layout()\n",
    "plt.show()"
   ]
  },
  {
   "cell_type": "code",
   "execution_count": null,
   "id": "c4a67bbb",
   "metadata": {},
   "outputs": [],
   "source": [
    "fit_model2 = reg.fit(test_data[['ar1','ar2', 'SMA', 'int']], test_data[['open']])"
   ]
  },
  {
   "cell_type": "code",
   "execution_count": null,
   "id": "4b7be6e1",
   "metadata": {},
   "outputs": [],
   "source": [
    "test_data['prediction_inSample']= fit_model2.predict(test_data[['ar1','ar2', 'SMA', 'int']])"
   ]
  },
  {
   "cell_type": "code",
   "execution_count": null,
   "id": "40949d5f",
   "metadata": {},
   "outputs": [],
   "source": [
    "test_data"
   ]
  },
  {
   "cell_type": "code",
   "execution_count": null,
   "id": "ca3e568b",
   "metadata": {},
   "outputs": [],
   "source": [
    "test_data['in_sample_error'] = test_data.open - test_data.prediction_inSample\n",
    "test_data['in_sample_sq_error'] = test_data['in_sample_error']**2\n",
    "test_data['in_sample_abs_error'] = np.abs(test_data['in_sample_error'])"
   ]
  },
  {
   "cell_type": "code",
   "execution_count": null,
   "id": "f93263a2",
   "metadata": {},
   "outputs": [],
   "source": [
    "test_data[['in_sample_error', 'in_sample_sq_error', 'in_sample_abs_error']].mean()"
   ]
  },
  {
   "cell_type": "code",
   "execution_count": null,
   "id": "f61615fd",
   "metadata": {},
   "outputs": [],
   "source": []
  }
 ],
 "metadata": {
  "kernelspec": {
   "display_name": "Python 3 (ipykernel)",
   "language": "python",
   "name": "python3"
  },
  "language_info": {
   "codemirror_mode": {
    "name": "ipython",
    "version": 3
   },
   "file_extension": ".py",
   "mimetype": "text/x-python",
   "name": "python",
   "nbconvert_exporter": "python",
   "pygments_lexer": "ipython3",
   "version": "3.9.6"
  }
 },
 "nbformat": 4,
 "nbformat_minor": 5
}
