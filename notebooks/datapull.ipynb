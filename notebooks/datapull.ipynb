{
 "cells": [
  {
   "cell_type": "code",
   "execution_count": 8,
   "id": "1401e60f-ed42-40e8-a063-ae3254e8e277",
   "metadata": {
    "tags": []
   },
   "outputs": [],
   "source": [
    "import pandas as pd\n",
    "import numpy as np\n",
    "import requests\n",
    "import matplotlib.pyplot as plt"
   ]
  },
  {
   "cell_type": "code",
   "execution_count": 2,
   "id": "b0bd184d-c1a3-4d81-9d28-a0aa128f0f58",
   "metadata": {
    "tags": []
   },
   "outputs": [],
   "source": [
    "\n",
    "# replace the \"demo\" apikey below with your own key from https://www.alphavantage.co/support/#api-key\n",
    "url = 'https://www.alphavantage.co/query?function=TIME_SERIES_INTRADAY&symbol=IBM&interval=5min&apikey=demo'\n",
    "r = requests.get(url)\n",
    "data = r.json()\n",
    "\n"
   ]
  },
  {
   "cell_type": "code",
   "execution_count": 3,
   "id": "cddf598a-b573-4c49-b423-174522786003",
   "metadata": {
    "tags": []
   },
   "outputs": [],
   "source": [
    "ticker = \"IBM\"\n",
    "internval = [\"1min\", \"5min\", \"15min\", \"30min\", \"60min\"]\n",
    "apikey = \"T87YP0BT9VVE1VC6\"\n",
    "period_slice = \"year1month3\""
   ]
  },
  {
   "cell_type": "code",
   "execution_count": 4,
   "id": "a8090508-bace-4e0f-9d71-f2f3d2781268",
   "metadata": {
    "tags": []
   },
   "outputs": [],
   "source": [
    "def AlphaVantageDataPull(ticker, interval, apikey, period_slice):\n",
    "    url = 'https://www.alphavantage.co/query?function=TIME_SERIES_INTRADAY&symbol={sym}&interval={inter}&apikey={key}&slice={period_slice}'.format(sym = ticker,\n",
    "                                                                                                                                                  inter = interval,\n",
    "                                                                                                                                                  key = apikey,\n",
    "                                                                                                                                                 period_slice=period_slice)\n",
    "    r = requests.get(url)\n",
    "    data = r.json()\n",
    "    \n",
    "    return data"
   ]
  },
  {
   "cell_type": "code",
   "execution_count": 5,
   "id": "e48f5266-53f1-4085-9d2c-7201f6fbf276",
   "metadata": {
    "tags": []
   },
   "outputs": [],
   "source": [
    "test_data = AlphaVantageDataPull(ticker, internval[4], apikey, period_slice)"
   ]
  },
  {
   "cell_type": "code",
   "execution_count": 10,
   "id": "017a2a4e-d631-4065-81e9-97d7c5bbee4d",
   "metadata": {
    "tags": []
   },
   "outputs": [
    {
     "data": {
      "text/plain": [
       "dict_keys(['2023-03-28 20:00:00', '2023-03-28 18:00:00', '2023-03-28 17:00:00', '2023-03-28 16:00:00', '2023-03-28 15:00:00', '2023-03-28 14:00:00', '2023-03-28 13:00:00', '2023-03-28 12:00:00', '2023-03-28 11:00:00', '2023-03-28 10:00:00', '2023-03-28 09:00:00', '2023-03-27 20:00:00', '2023-03-27 19:00:00', '2023-03-27 18:00:00', '2023-03-27 17:00:00', '2023-03-27 16:00:00', '2023-03-27 15:00:00', '2023-03-27 14:00:00', '2023-03-27 13:00:00', '2023-03-27 12:00:00', '2023-03-27 11:00:00', '2023-03-27 10:00:00', '2023-03-27 09:00:00', '2023-03-27 08:00:00', '2023-03-24 19:00:00', '2023-03-24 18:00:00', '2023-03-24 17:00:00', '2023-03-24 16:00:00', '2023-03-24 15:00:00', '2023-03-24 14:00:00', '2023-03-24 13:00:00', '2023-03-24 12:00:00', '2023-03-24 11:00:00', '2023-03-24 10:00:00', '2023-03-24 09:00:00', '2023-03-24 08:00:00', '2023-03-24 07:00:00', '2023-03-24 06:00:00', '2023-03-23 20:00:00', '2023-03-23 18:00:00', '2023-03-23 17:00:00', '2023-03-23 16:00:00', '2023-03-23 15:00:00', '2023-03-23 14:00:00', '2023-03-23 13:00:00', '2023-03-23 12:00:00', '2023-03-23 11:00:00', '2023-03-23 10:00:00', '2023-03-23 09:00:00', '2023-03-23 08:00:00', '2023-03-23 06:00:00', '2023-03-22 19:00:00', '2023-03-22 18:00:00', '2023-03-22 17:00:00', '2023-03-22 16:00:00', '2023-03-22 15:00:00', '2023-03-22 14:00:00', '2023-03-22 13:00:00', '2023-03-22 12:00:00', '2023-03-22 11:00:00', '2023-03-22 10:00:00', '2023-03-22 09:00:00', '2023-03-22 08:00:00', '2023-03-21 19:00:00', '2023-03-21 18:00:00', '2023-03-21 17:00:00', '2023-03-21 16:00:00', '2023-03-21 15:00:00', '2023-03-21 14:00:00', '2023-03-21 13:00:00', '2023-03-21 12:00:00', '2023-03-21 11:00:00', '2023-03-21 10:00:00', '2023-03-21 09:00:00', '2023-03-21 06:00:00', '2023-03-20 18:00:00', '2023-03-20 17:00:00', '2023-03-20 16:00:00', '2023-03-20 15:00:00', '2023-03-20 14:00:00', '2023-03-20 13:00:00', '2023-03-20 12:00:00', '2023-03-20 11:00:00', '2023-03-20 10:00:00', '2023-03-20 09:00:00', '2023-03-20 08:00:00', '2023-03-20 06:00:00', '2023-03-20 05:00:00', '2023-03-17 20:00:00', '2023-03-17 18:00:00', '2023-03-17 17:00:00', '2023-03-17 16:00:00', '2023-03-17 15:00:00', '2023-03-17 14:00:00', '2023-03-17 13:00:00', '2023-03-17 12:00:00', '2023-03-17 11:00:00', '2023-03-17 10:00:00', '2023-03-17 09:00:00', '2023-03-17 08:00:00'])"
      ]
     },
     "execution_count": 10,
     "metadata": {},
     "output_type": "execute_result"
    }
   ],
   "source": [
    "test_data['Time Series (60min)'].keys()"
   ]
  },
  {
   "cell_type": "code",
   "execution_count": 11,
   "id": "1aca180e-c0ca-4210-97c7-fbbb56477081",
   "metadata": {
    "tags": []
   },
   "outputs": [
    {
     "ename": "KeyError",
     "evalue": "'Time Series (15min)'",
     "output_type": "error",
     "traceback": [
      "\u001b[0;31m---------------------------------------------------------------------------\u001b[0m",
      "\u001b[0;31mKeyError\u001b[0m                                  Traceback (most recent call last)",
      "\u001b[0;32m/var/folders/kk/ffqddykx5699q_3lb8rnt68h0000gn/T/ipykernel_94739/2695905492.py\u001b[0m in \u001b[0;36m<module>\u001b[0;34m\u001b[0m\n\u001b[0;32m----> 1\u001b[0;31m \u001b[0mtest_data\u001b[0m\u001b[0;34m[\u001b[0m\u001b[0;34m'Time Series (15min)'\u001b[0m\u001b[0;34m]\u001b[0m\u001b[0;34m[\u001b[0m\u001b[0;34m'2023-03-28 20:00:00'\u001b[0m\u001b[0;34m]\u001b[0m\u001b[0;34m[\u001b[0m\u001b[0;34m'4. close'\u001b[0m\u001b[0;34m]\u001b[0m\u001b[0;34m\u001b[0m\u001b[0;34m\u001b[0m\u001b[0m\n\u001b[0m",
      "\u001b[0;31mKeyError\u001b[0m: 'Time Series (15min)'"
     ]
    }
   ],
   "source": [
    "test_data['Time Series (15min)']['2023-03-28 20:00:00']['4. close']"
   ]
  },
  {
   "cell_type": "code",
   "execution_count": 12,
   "id": "eb59d6d9-d20c-429b-98dc-7135b0cd805a",
   "metadata": {
    "tags": []
   },
   "outputs": [
    {
     "name": "stdout",
     "output_type": "stream",
     "text": [
      "[('2023-03-28 20:00:00', '129.2700'), ('2023-03-28 18:00:00', '129.1100'), ('2023-03-28 17:00:00', '129.3000'), ('2023-03-28 16:00:00', '129.3300'), ('2023-03-28 15:00:00', '129.1100'), ('2023-03-28 14:00:00', '129.0100'), ('2023-03-28 13:00:00', '129.3100'), ('2023-03-28 12:00:00', '129.4900'), ('2023-03-28 11:00:00', '129.3100'), ('2023-03-28 10:00:00', '129.3200'), ('2023-03-28 09:00:00', '129.3100'), ('2023-03-27 20:00:00', '129.5600'), ('2023-03-27 19:00:00', '129.7200'), ('2023-03-27 18:00:00', '129.3500'), ('2023-03-27 17:00:00', '129.3200'), ('2023-03-27 16:00:00', '129.3500'), ('2023-03-27 15:00:00', '130.0000'), ('2023-03-27 14:00:00', '129.7200'), ('2023-03-27 13:00:00', '129.3100'), ('2023-03-27 12:00:00', '128.9800'), ('2023-03-27 11:00:00', '128.2300'), ('2023-03-27 10:00:00', '128.2050'), ('2023-03-27 09:00:00', '125.6621'), ('2023-03-27 08:00:00', '126.0000'), ('2023-03-24 19:00:00', '125.5500'), ('2023-03-24 18:00:00', '125.2924'), ('2023-03-24 17:00:00', '125.5700'), ('2023-03-24 16:00:00', '125.3300'), ('2023-03-24 15:00:00', '124.6950'), ('2023-03-24 14:00:00', '124.3819'), ('2023-03-24 13:00:00', '124.5893'), ('2023-03-24 12:00:00', '124.8150'), ('2023-03-24 11:00:00', '123.8600'), ('2023-03-24 10:00:00', '123.5300'), ('2023-03-24 09:00:00', '123.2900'), ('2023-03-24 08:00:00', '122.8000'), ('2023-03-24 07:00:00', '122.8100'), ('2023-03-24 06:00:00', '123.0000'), ('2023-03-23 20:00:00', '123.4000'), ('2023-03-23 18:00:00', '123.7000'), ('2023-03-23 17:00:00', '123.7000'), ('2023-03-23 16:00:00', '123.3300'), ('2023-03-23 15:00:00', '123.2200'), ('2023-03-23 14:00:00', '123.9800'), ('2023-03-23 13:00:00', '124.3914'), ('2023-03-23 12:00:00', '124.5890'), ('2023-03-23 11:00:00', '124.6100'), ('2023-03-23 10:00:00', '123.5300'), ('2023-03-23 09:00:00', '124.3000'), ('2023-03-23 08:00:00', '124.0200'), ('2023-03-23 06:00:00', '124.6000'), ('2023-03-22 19:00:00', '124.0600'), ('2023-03-22 18:00:00', '123.8000'), ('2023-03-22 17:00:00', '124.0500'), ('2023-03-22 16:00:00', '124.0200'), ('2023-03-22 15:00:00', '125.8400'), ('2023-03-22 14:00:00', '125.9200'), ('2023-03-22 13:00:00', '126.0427'), ('2023-03-22 12:00:00', '126.5500'), ('2023-03-22 11:00:00', '126.7600'), ('2023-03-22 10:00:00', '127.0000'), ('2023-03-22 09:00:00', '126.5000'), ('2023-03-22 08:00:00', '126.5000'), ('2023-03-21 19:00:00', '126.7600'), ('2023-03-21 18:00:00', '126.7800'), ('2023-03-21 17:00:00', '126.8200'), ('2023-03-21 16:00:00', '126.6100'), ('2023-03-21 15:00:00', '126.0300'), ('2023-03-21 14:00:00', '125.7400'), ('2023-03-21 13:00:00', '125.8200'), ('2023-03-21 12:00:00', '125.8300'), ('2023-03-21 11:00:00', '126.3500'), ('2023-03-21 10:00:00', '125.9900'), ('2023-03-21 09:00:00', '126.6500'), ('2023-03-21 06:00:00', '126.5000'), ('2023-03-20 18:00:00', '125.7847'), ('2023-03-20 17:00:00', '126.0800'), ('2023-03-20 16:00:00', '125.9500'), ('2023-03-20 15:00:00', '125.2500'), ('2023-03-20 14:00:00', '125.3200'), ('2023-03-20 13:00:00', '125.5500'), ('2023-03-20 12:00:00', '125.2300'), ('2023-03-20 11:00:00', '125.1600'), ('2023-03-20 10:00:00', '125.3134'), ('2023-03-20 09:00:00', '124.6500'), ('2023-03-20 08:00:00', '123.1500'), ('2023-03-20 06:00:00', '123.5700'), ('2023-03-20 05:00:00', '123.0500'), ('2023-03-17 20:00:00', '123.8000'), ('2023-03-17 18:00:00', '123.5400'), ('2023-03-17 17:00:00', '123.6000'), ('2023-03-17 16:00:00', '123.7400'), ('2023-03-17 15:00:00', '123.2300'), ('2023-03-17 14:00:00', '123.6300'), ('2023-03-17 13:00:00', '123.6600'), ('2023-03-17 12:00:00', '123.3800'), ('2023-03-17 11:00:00', '123.4950'), ('2023-03-17 10:00:00', '123.5000'), ('2023-03-17 09:00:00', '124.2100'), ('2023-03-17 08:00:00', '124.5000')]\n"
     ]
    }
   ],
   "source": [
    "hourly_data = []\n",
    "\n",
    "for i in test_data['Time Series (60min)'].keys():\n",
    "    hourly_data.append((i, test_data['Time Series (60min)'][i]['4. close']))\n",
    "\n",
    "print(hourly_data)"
   ]
  },
  {
   "cell_type": "code",
   "execution_count": 19,
   "id": "62f1a976-5ddb-4791-b693-0d568612acf9",
   "metadata": {
    "tags": []
   },
   "outputs": [],
   "source": [
    "ibm_hist = pd.DataFrame(hourly_data, columns=['time', 'price'])\n",
    "ibm_hist['price'] = ibm_hist['price'].astype(float)\n",
    "ibm_hist['time'] = pd.to_datetime(ibm_hist['time'])"
   ]
  },
  {
   "cell_type": "code",
   "execution_count": 20,
   "id": "af2b90fb-1013-4225-ad0a-744157722527",
   "metadata": {
    "tags": []
   },
   "outputs": [
    {
     "data": {
      "text/plain": [
       "time     datetime64[ns]\n",
       "price           float64\n",
       "dtype: object"
      ]
     },
     "execution_count": 20,
     "metadata": {},
     "output_type": "execute_result"
    }
   ],
   "source": [
    "ibm_hist.dtypes"
   ]
  },
  {
   "cell_type": "code",
   "execution_count": 21,
   "id": "a1c7781d-75ed-4410-9eda-16de0ddaf455",
   "metadata": {
    "tags": []
   },
   "outputs": [
    {
     "data": {
      "text/html": [
       "<div>\n",
       "<style scoped>\n",
       "    .dataframe tbody tr th:only-of-type {\n",
       "        vertical-align: middle;\n",
       "    }\n",
       "\n",
       "    .dataframe tbody tr th {\n",
       "        vertical-align: top;\n",
       "    }\n",
       "\n",
       "    .dataframe thead th {\n",
       "        text-align: right;\n",
       "    }\n",
       "</style>\n",
       "<table border=\"1\" class=\"dataframe\">\n",
       "  <thead>\n",
       "    <tr style=\"text-align: right;\">\n",
       "      <th></th>\n",
       "      <th>price</th>\n",
       "    </tr>\n",
       "  </thead>\n",
       "  <tbody>\n",
       "    <tr>\n",
       "      <th>count</th>\n",
       "      <td>100.000000</td>\n",
       "    </tr>\n",
       "    <tr>\n",
       "      <th>mean</th>\n",
       "      <td>125.774269</td>\n",
       "    </tr>\n",
       "    <tr>\n",
       "      <th>std</th>\n",
       "      <td>2.157151</td>\n",
       "    </tr>\n",
       "    <tr>\n",
       "      <th>min</th>\n",
       "      <td>122.800000</td>\n",
       "    </tr>\n",
       "    <tr>\n",
       "      <th>25%</th>\n",
       "      <td>123.845000</td>\n",
       "    </tr>\n",
       "    <tr>\n",
       "      <th>50%</th>\n",
       "      <td>125.440000</td>\n",
       "    </tr>\n",
       "    <tr>\n",
       "      <th>75%</th>\n",
       "      <td>126.765000</td>\n",
       "    </tr>\n",
       "    <tr>\n",
       "      <th>max</th>\n",
       "      <td>130.000000</td>\n",
       "    </tr>\n",
       "  </tbody>\n",
       "</table>\n",
       "</div>"
      ],
      "text/plain": [
       "            price\n",
       "count  100.000000\n",
       "mean   125.774269\n",
       "std      2.157151\n",
       "min    122.800000\n",
       "25%    123.845000\n",
       "50%    125.440000\n",
       "75%    126.765000\n",
       "max    130.000000"
      ]
     },
     "execution_count": 21,
     "metadata": {},
     "output_type": "execute_result"
    }
   ],
   "source": [
    "ibm_hist.describe()"
   ]
  },
  {
   "cell_type": "code",
   "execution_count": 24,
   "id": "fc0c1733-229a-4e91-b668-f806538c3fdc",
   "metadata": {
    "tags": []
   },
   "outputs": [
    {
     "data": {
      "text/plain": [
       "[<matplotlib.lines.Line2D at 0x11a7a0050>]"
      ]
     },
     "execution_count": 24,
     "metadata": {},
     "output_type": "execute_result"
    },
    {
     "data": {
      "image/png": "[encoded data removed]",
      "text/plain": [
       "<Figure size 640x480 with 1 Axes>"
      ]
     },
     "metadata": {},
     "output_type": "display_data"
    }
   ],
   "source": [
    "plt.plot(ibm_hist['price'], )"
   ]
  },
  {
   "cell_type": "code",
   "execution_count": 25,
   "id": "8908c277-c5de-4488-b78f-bc99973fd835",
   "metadata": {
    "tags": []
   },
   "outputs": [
    {
     "data": {
      "text/plain": [
       "[<matplotlib.lines.Line2D at 0x11937fc10>]"
      ]
     },
     "execution_count": 25,
     "metadata": {},
     "output_type": "execute_result"
    },
    {
     "data": {
      "image/png": "[encoded data removed]",
      "text/plain": [
       "<Figure size 640x480 with 1 Axes>"
      ]
     },
     "metadata": {},
     "output_type": "display_data"
    }
   ],
   "source": [
    "fig = plt.figure()\n",
    "ax = fig.add_subplot(1, 1, 1)\n",
    "ax.plot(ibm_hist['time'], ibm_hist['price'], color='tab:blue')"
   ]
  },
  {
   "cell_type": "code",
   "execution_count": 35,
   "id": "5258131c-ce49-4318-a7ac-be8b17136385",
   "metadata": {
    "tags": []
   },
   "outputs": [],
   "source": [
    "ibm_hist['is_test'] = np.where(ibm_hist['time'] > ibm_hist[:20]['time'][19], 1, 0)"
   ]
  },
  {
   "cell_type": "code",
   "execution_count": 37,
   "id": "5bdfbf3e-75a5-4818-b7ae-50745e38793f",
   "metadata": {
    "tags": []
   },
   "outputs": [
    {
     "data": {
      "text/html": [
       "<div>\n",
       "<style scoped>\n",
       "    .dataframe tbody tr th:only-of-type {\n",
       "        vertical-align: middle;\n",
       "    }\n",
       "\n",
       "    .dataframe tbody tr th {\n",
       "        vertical-align: top;\n",
       "    }\n",
       "\n",
       "    .dataframe thead th {\n",
       "        text-align: right;\n",
       "    }\n",
       "</style>\n",
       "<table border=\"1\" class=\"dataframe\">\n",
       "  <thead>\n",
       "    <tr style=\"text-align: right;\">\n",
       "      <th></th>\n",
       "      <th>time</th>\n",
       "      <th>price</th>\n",
       "      <th>is_test</th>\n",
       "    </tr>\n",
       "  </thead>\n",
       "  <tbody>\n",
       "    <tr>\n",
       "      <th>0</th>\n",
       "      <td>2023-03-28 20:00:00</td>\n",
       "      <td>129.2700</td>\n",
       "      <td>1</td>\n",
       "    </tr>\n",
       "    <tr>\n",
       "      <th>1</th>\n",
       "      <td>2023-03-28 18:00:00</td>\n",
       "      <td>129.1100</td>\n",
       "      <td>1</td>\n",
       "    </tr>\n",
       "    <tr>\n",
       "      <th>2</th>\n",
       "      <td>2023-03-28 17:00:00</td>\n",
       "      <td>129.3000</td>\n",
       "      <td>1</td>\n",
       "    </tr>\n",
       "    <tr>\n",
       "      <th>3</th>\n",
       "      <td>2023-03-28 16:00:00</td>\n",
       "      <td>129.3300</td>\n",
       "      <td>1</td>\n",
       "    </tr>\n",
       "    <tr>\n",
       "      <th>4</th>\n",
       "      <td>2023-03-28 15:00:00</td>\n",
       "      <td>129.1100</td>\n",
       "      <td>1</td>\n",
       "    </tr>\n",
       "    <tr>\n",
       "      <th>5</th>\n",
       "      <td>2023-03-28 14:00:00</td>\n",
       "      <td>129.0100</td>\n",
       "      <td>1</td>\n",
       "    </tr>\n",
       "    <tr>\n",
       "      <th>6</th>\n",
       "      <td>2023-03-28 13:00:00</td>\n",
       "      <td>129.3100</td>\n",
       "      <td>1</td>\n",
       "    </tr>\n",
       "    <tr>\n",
       "      <th>7</th>\n",
       "      <td>2023-03-28 12:00:00</td>\n",
       "      <td>129.4900</td>\n",
       "      <td>1</td>\n",
       "    </tr>\n",
       "    <tr>\n",
       "      <th>8</th>\n",
       "      <td>2023-03-28 11:00:00</td>\n",
       "      <td>129.3100</td>\n",
       "      <td>1</td>\n",
       "    </tr>\n",
       "    <tr>\n",
       "      <th>9</th>\n",
       "      <td>2023-03-28 10:00:00</td>\n",
       "      <td>129.3200</td>\n",
       "      <td>1</td>\n",
       "    </tr>\n",
       "    <tr>\n",
       "      <th>10</th>\n",
       "      <td>2023-03-28 09:00:00</td>\n",
       "      <td>129.3100</td>\n",
       "      <td>1</td>\n",
       "    </tr>\n",
       "    <tr>\n",
       "      <th>11</th>\n",
       "      <td>2023-03-27 20:00:00</td>\n",
       "      <td>129.5600</td>\n",
       "      <td>1</td>\n",
       "    </tr>\n",
       "    <tr>\n",
       "      <th>12</th>\n",
       "      <td>2023-03-27 19:00:00</td>\n",
       "      <td>129.7200</td>\n",
       "      <td>1</td>\n",
       "    </tr>\n",
       "    <tr>\n",
       "      <th>13</th>\n",
       "      <td>2023-03-27 18:00:00</td>\n",
       "      <td>129.3500</td>\n",
       "      <td>1</td>\n",
       "    </tr>\n",
       "    <tr>\n",
       "      <th>14</th>\n",
       "      <td>2023-03-27 17:00:00</td>\n",
       "      <td>129.3200</td>\n",
       "      <td>1</td>\n",
       "    </tr>\n",
       "    <tr>\n",
       "      <th>15</th>\n",
       "      <td>2023-03-27 16:00:00</td>\n",
       "      <td>129.3500</td>\n",
       "      <td>1</td>\n",
       "    </tr>\n",
       "    <tr>\n",
       "      <th>16</th>\n",
       "      <td>2023-03-27 15:00:00</td>\n",
       "      <td>130.0000</td>\n",
       "      <td>1</td>\n",
       "    </tr>\n",
       "    <tr>\n",
       "      <th>17</th>\n",
       "      <td>2023-03-27 14:00:00</td>\n",
       "      <td>129.7200</td>\n",
       "      <td>1</td>\n",
       "    </tr>\n",
       "    <tr>\n",
       "      <th>18</th>\n",
       "      <td>2023-03-27 13:00:00</td>\n",
       "      <td>129.3100</td>\n",
       "      <td>1</td>\n",
       "    </tr>\n",
       "    <tr>\n",
       "      <th>19</th>\n",
       "      <td>2023-03-27 12:00:00</td>\n",
       "      <td>128.9800</td>\n",
       "      <td>0</td>\n",
       "    </tr>\n",
       "    <tr>\n",
       "      <th>20</th>\n",
       "      <td>2023-03-27 11:00:00</td>\n",
       "      <td>128.2300</td>\n",
       "      <td>0</td>\n",
       "    </tr>\n",
       "    <tr>\n",
       "      <th>21</th>\n",
       "      <td>2023-03-27 10:00:00</td>\n",
       "      <td>128.2050</td>\n",
       "      <td>0</td>\n",
       "    </tr>\n",
       "    <tr>\n",
       "      <th>22</th>\n",
       "      <td>2023-03-27 09:00:00</td>\n",
       "      <td>125.6621</td>\n",
       "      <td>0</td>\n",
       "    </tr>\n",
       "    <tr>\n",
       "      <th>23</th>\n",
       "      <td>2023-03-27 08:00:00</td>\n",
       "      <td>126.0000</td>\n",
       "      <td>0</td>\n",
       "    </tr>\n",
       "    <tr>\n",
       "      <th>24</th>\n",
       "      <td>2023-03-24 19:00:00</td>\n",
       "      <td>125.5500</td>\n",
       "      <td>0</td>\n",
       "    </tr>\n",
       "    <tr>\n",
       "      <th>25</th>\n",
       "      <td>2023-03-24 18:00:00</td>\n",
       "      <td>125.2924</td>\n",
       "      <td>0</td>\n",
       "    </tr>\n",
       "    <tr>\n",
       "      <th>26</th>\n",
       "      <td>2023-03-24 17:00:00</td>\n",
       "      <td>125.5700</td>\n",
       "      <td>0</td>\n",
       "    </tr>\n",
       "    <tr>\n",
       "      <th>27</th>\n",
       "      <td>2023-03-24 16:00:00</td>\n",
       "      <td>125.3300</td>\n",
       "      <td>0</td>\n",
       "    </tr>\n",
       "    <tr>\n",
       "      <th>28</th>\n",
       "      <td>2023-03-24 15:00:00</td>\n",
       "      <td>124.6950</td>\n",
       "      <td>0</td>\n",
       "    </tr>\n",
       "    <tr>\n",
       "      <th>29</th>\n",
       "      <td>2023-03-24 14:00:00</td>\n",
       "      <td>124.3819</td>\n",
       "      <td>0</td>\n",
       "    </tr>\n",
       "    <tr>\n",
       "      <th>30</th>\n",
       "      <td>2023-03-24 13:00:00</td>\n",
       "      <td>124.5893</td>\n",
       "      <td>0</td>\n",
       "    </tr>\n",
       "    <tr>\n",
       "      <th>31</th>\n",
       "      <td>2023-03-24 12:00:00</td>\n",
       "      <td>124.8150</td>\n",
       "      <td>0</td>\n",
       "    </tr>\n",
       "    <tr>\n",
       "      <th>32</th>\n",
       "      <td>2023-03-24 11:00:00</td>\n",
       "      <td>123.8600</td>\n",
       "      <td>0</td>\n",
       "    </tr>\n",
       "    <tr>\n",
       "      <th>33</th>\n",
       "      <td>2023-03-24 10:00:00</td>\n",
       "      <td>123.5300</td>\n",
       "      <td>0</td>\n",
       "    </tr>\n",
       "    <tr>\n",
       "      <th>34</th>\n",
       "      <td>2023-03-24 09:00:00</td>\n",
       "      <td>123.2900</td>\n",
       "      <td>0</td>\n",
       "    </tr>\n",
       "    <tr>\n",
       "      <th>35</th>\n",
       "      <td>2023-03-24 08:00:00</td>\n",
       "      <td>122.8000</td>\n",
       "      <td>0</td>\n",
       "    </tr>\n",
       "    <tr>\n",
       "      <th>36</th>\n",
       "      <td>2023-03-24 07:00:00</td>\n",
       "      <td>122.8100</td>\n",
       "      <td>0</td>\n",
       "    </tr>\n",
       "    <tr>\n",
       "      <th>37</th>\n",
       "      <td>2023-03-24 06:00:00</td>\n",
       "      <td>123.0000</td>\n",
       "      <td>0</td>\n",
       "    </tr>\n",
       "    <tr>\n",
       "      <th>38</th>\n",
       "      <td>2023-03-23 20:00:00</td>\n",
       "      <td>123.4000</td>\n",
       "      <td>0</td>\n",
       "    </tr>\n",
       "    <tr>\n",
       "      <th>39</th>\n",
       "      <td>2023-03-23 18:00:00</td>\n",
       "      <td>123.7000</td>\n",
       "      <td>0</td>\n",
       "    </tr>\n",
       "    <tr>\n",
       "      <th>40</th>\n",
       "      <td>2023-03-23 17:00:00</td>\n",
       "      <td>123.7000</td>\n",
       "      <td>0</td>\n",
       "    </tr>\n",
       "    <tr>\n",
       "      <th>41</th>\n",
       "      <td>2023-03-23 16:00:00</td>\n",
       "      <td>123.3300</td>\n",
       "      <td>0</td>\n",
       "    </tr>\n",
       "    <tr>\n",
       "      <th>42</th>\n",
       "      <td>2023-03-23 15:00:00</td>\n",
       "      <td>123.2200</td>\n",
       "      <td>0</td>\n",
       "    </tr>\n",
       "    <tr>\n",
       "      <th>43</th>\n",
       "      <td>2023-03-23 14:00:00</td>\n",
       "      <td>123.9800</td>\n",
       "      <td>0</td>\n",
       "    </tr>\n",
       "    <tr>\n",
       "      <th>44</th>\n",
       "      <td>2023-03-23 13:00:00</td>\n",
       "      <td>124.3914</td>\n",
       "      <td>0</td>\n",
       "    </tr>\n",
       "    <tr>\n",
       "      <th>45</th>\n",
       "      <td>2023-03-23 12:00:00</td>\n",
       "      <td>124.5890</td>\n",
       "      <td>0</td>\n",
       "    </tr>\n",
       "    <tr>\n",
       "      <th>46</th>\n",
       "      <td>2023-03-23 11:00:00</td>\n",
       "      <td>124.6100</td>\n",
       "      <td>0</td>\n",
       "    </tr>\n",
       "    <tr>\n",
       "      <th>47</th>\n",
       "      <td>2023-03-23 10:00:00</td>\n",
       "      <td>123.5300</td>\n",
       "      <td>0</td>\n",
       "    </tr>\n",
       "    <tr>\n",
       "      <th>48</th>\n",
       "      <td>2023-03-23 09:00:00</td>\n",
       "      <td>124.3000</td>\n",
       "      <td>0</td>\n",
       "    </tr>\n",
       "    <tr>\n",
       "      <th>49</th>\n",
       "      <td>2023-03-23 08:00:00</td>\n",
       "      <td>124.0200</td>\n",
       "      <td>0</td>\n",
       "    </tr>\n",
       "  </tbody>\n",
       "</table>\n",
       "</div>"
      ],
      "text/plain": [
       "                  time     price  is_test\n",
       "0  2023-03-28 20:00:00  129.2700        1\n",
       "1  2023-03-28 18:00:00  129.1100        1\n",
       "2  2023-03-28 17:00:00  129.3000        1\n",
       "3  2023-03-28 16:00:00  129.3300        1\n",
       "4  2023-03-28 15:00:00  129.1100        1\n",
       "5  2023-03-28 14:00:00  129.0100        1\n",
       "6  2023-03-28 13:00:00  129.3100        1\n",
       "7  2023-03-28 12:00:00  129.4900        1\n",
       "8  2023-03-28 11:00:00  129.3100        1\n",
       "9  2023-03-28 10:00:00  129.3200        1\n",
       "10 2023-03-28 09:00:00  129.3100        1\n",
       "11 2023-03-27 20:00:00  129.5600        1\n",
       "12 2023-03-27 19:00:00  129.7200        1\n",
       "13 2023-03-27 18:00:00  129.3500        1\n",
       "14 2023-03-27 17:00:00  129.3200        1\n",
       "15 2023-03-27 16:00:00  129.3500        1\n",
       "16 2023-03-27 15:00:00  130.0000        1\n",
       "17 2023-03-27 14:00:00  129.7200        1\n",
       "18 2023-03-27 13:00:00  129.3100        1\n",
       "19 2023-03-27 12:00:00  128.9800        0\n",
       "20 2023-03-27 11:00:00  128.2300        0\n",
       "21 2023-03-27 10:00:00  128.2050        0\n",
       "22 2023-03-27 09:00:00  125.6621        0\n",
       "23 2023-03-27 08:00:00  126.0000        0\n",
       "24 2023-03-24 19:00:00  125.5500        0\n",
       "25 2023-03-24 18:00:00  125.2924        0\n",
       "26 2023-03-24 17:00:00  125.5700        0\n",
       "27 2023-03-24 16:00:00  125.3300        0\n",
       "28 2023-03-24 15:00:00  124.6950        0\n",
       "29 2023-03-24 14:00:00  124.3819        0\n",
       "30 2023-03-24 13:00:00  124.5893        0\n",
       "31 2023-03-24 12:00:00  124.8150        0\n",
       "32 2023-03-24 11:00:00  123.8600        0\n",
       "33 2023-03-24 10:00:00  123.5300        0\n",
       "34 2023-03-24 09:00:00  123.2900        0\n",
       "35 2023-03-24 08:00:00  122.8000        0\n",
       "36 2023-03-24 07:00:00  122.8100        0\n",
       "37 2023-03-24 06:00:00  123.0000        0\n",
       "38 2023-03-23 20:00:00  123.4000        0\n",
       "39 2023-03-23 18:00:00  123.7000        0\n",
       "40 2023-03-23 17:00:00  123.7000        0\n",
       "41 2023-03-23 16:00:00  123.3300        0\n",
       "42 2023-03-23 15:00:00  123.2200        0\n",
       "43 2023-03-23 14:00:00  123.9800        0\n",
       "44 2023-03-23 13:00:00  124.3914        0\n",
       "45 2023-03-23 12:00:00  124.5890        0\n",
       "46 2023-03-23 11:00:00  124.6100        0\n",
       "47 2023-03-23 10:00:00  123.5300        0\n",
       "48 2023-03-23 09:00:00  124.3000        0\n",
       "49 2023-03-23 08:00:00  124.0200        0"
      ]
     },
     "execution_count": 37,
     "metadata": {},
     "output_type": "execute_result"
    }
   ],
   "source": [
    "ibm_hist.head(50)"
   ]
  },
  {
   "cell_type": "code",
   "execution_count": 47,
   "id": "175f3ae0-d3b4-4575-8301-130b838a749d",
   "metadata": {
    "tags": []
   },
   "outputs": [
    {
     "data": {
      "text/plain": [
       "124.92872716049385"
      ]
     },
     "execution_count": 47,
     "metadata": {},
     "output_type": "execute_result"
    }
   ],
   "source": [
    "np.mean(ibm_hist[ibm_hist.is_test==0]['price'].values)"
   ]
  },
  {
   "cell_type": "code",
   "execution_count": 48,
   "id": "2d3a181b-674b-4e02-8b66-a01e517e165b",
   "metadata": {
    "tags": []
   },
   "outputs": [],
   "source": [
    "avg_model_1 = np.mean(ibm_hist[ibm_hist.is_test==0]['price'].values)"
   ]
  },
  {
   "cell_type": "code",
   "execution_count": 49,
   "id": "7f4b5870-e779-4396-b6d0-a12d5309a891",
   "metadata": {
    "tags": []
   },
   "outputs": [],
   "source": [
    "ibm_hist['avg_model_pred'] = avg_model_1"
   ]
  },
  {
   "cell_type": "code",
   "execution_count": 50,
   "id": "12598629-369d-4617-8a3e-451068091933",
   "metadata": {
    "tags": []
   },
   "outputs": [
    {
     "data": {
      "text/html": [
       "<div>\n",
       "<style scoped>\n",
       "    .dataframe tbody tr th:only-of-type {\n",
       "        vertical-align: middle;\n",
       "    }\n",
       "\n",
       "    .dataframe tbody tr th {\n",
       "        vertical-align: top;\n",
       "    }\n",
       "\n",
       "    .dataframe thead th {\n",
       "        text-align: right;\n",
       "    }\n",
       "</style>\n",
       "<table border=\"1\" class=\"dataframe\">\n",
       "  <thead>\n",
       "    <tr style=\"text-align: right;\">\n",
       "      <th></th>\n",
       "      <th>time</th>\n",
       "      <th>price</th>\n",
       "      <th>is_test</th>\n",
       "      <th>avg_model_pred</th>\n",
       "    </tr>\n",
       "  </thead>\n",
       "  <tbody>\n",
       "    <tr>\n",
       "      <th>0</th>\n",
       "      <td>2023-03-28 20:00:00</td>\n",
       "      <td>129.270</td>\n",
       "      <td>1</td>\n",
       "      <td>124.928727</td>\n",
       "    </tr>\n",
       "    <tr>\n",
       "      <th>1</th>\n",
       "      <td>2023-03-28 18:00:00</td>\n",
       "      <td>129.110</td>\n",
       "      <td>1</td>\n",
       "      <td>124.928727</td>\n",
       "    </tr>\n",
       "    <tr>\n",
       "      <th>2</th>\n",
       "      <td>2023-03-28 17:00:00</td>\n",
       "      <td>129.300</td>\n",
       "      <td>1</td>\n",
       "      <td>124.928727</td>\n",
       "    </tr>\n",
       "    <tr>\n",
       "      <th>3</th>\n",
       "      <td>2023-03-28 16:00:00</td>\n",
       "      <td>129.330</td>\n",
       "      <td>1</td>\n",
       "      <td>124.928727</td>\n",
       "    </tr>\n",
       "    <tr>\n",
       "      <th>4</th>\n",
       "      <td>2023-03-28 15:00:00</td>\n",
       "      <td>129.110</td>\n",
       "      <td>1</td>\n",
       "      <td>124.928727</td>\n",
       "    </tr>\n",
       "    <tr>\n",
       "      <th>...</th>\n",
       "      <td>...</td>\n",
       "      <td>...</td>\n",
       "      <td>...</td>\n",
       "      <td>...</td>\n",
       "    </tr>\n",
       "    <tr>\n",
       "      <th>95</th>\n",
       "      <td>2023-03-17 12:00:00</td>\n",
       "      <td>123.380</td>\n",
       "      <td>0</td>\n",
       "      <td>124.928727</td>\n",
       "    </tr>\n",
       "    <tr>\n",
       "      <th>96</th>\n",
       "      <td>2023-03-17 11:00:00</td>\n",
       "      <td>123.495</td>\n",
       "      <td>0</td>\n",
       "      <td>124.928727</td>\n",
       "    </tr>\n",
       "    <tr>\n",
       "      <th>97</th>\n",
       "      <td>2023-03-17 10:00:00</td>\n",
       "      <td>123.500</td>\n",
       "      <td>0</td>\n",
       "      <td>124.928727</td>\n",
       "    </tr>\n",
       "    <tr>\n",
       "      <th>98</th>\n",
       "      <td>2023-03-17 09:00:00</td>\n",
       "      <td>124.210</td>\n",
       "      <td>0</td>\n",
       "      <td>124.928727</td>\n",
       "    </tr>\n",
       "    <tr>\n",
       "      <th>99</th>\n",
       "      <td>2023-03-17 08:00:00</td>\n",
       "      <td>124.500</td>\n",
       "      <td>0</td>\n",
       "      <td>124.928727</td>\n",
       "    </tr>\n",
       "  </tbody>\n",
       "</table>\n",
       "<p>100 rows × 4 columns</p>\n",
       "</div>"
      ],
      "text/plain": [
       "                  time    price  is_test  avg_model_pred\n",
       "0  2023-03-28 20:00:00  129.270        1      124.928727\n",
       "1  2023-03-28 18:00:00  129.110        1      124.928727\n",
       "2  2023-03-28 17:00:00  129.300        1      124.928727\n",
       "3  2023-03-28 16:00:00  129.330        1      124.928727\n",
       "4  2023-03-28 15:00:00  129.110        1      124.928727\n",
       "..                 ...      ...      ...             ...\n",
       "95 2023-03-17 12:00:00  123.380        0      124.928727\n",
       "96 2023-03-17 11:00:00  123.495        0      124.928727\n",
       "97 2023-03-17 10:00:00  123.500        0      124.928727\n",
       "98 2023-03-17 09:00:00  124.210        0      124.928727\n",
       "99 2023-03-17 08:00:00  124.500        0      124.928727\n",
       "\n",
       "[100 rows x 4 columns]"
      ]
     },
     "execution_count": 50,
     "metadata": {},
     "output_type": "execute_result"
    }
   ],
   "source": [
    "ibm_hist"
   ]
  },
  {
   "cell_type": "code",
   "execution_count": 64,
   "id": "e722e107-4358-4198-b662-bd409a7452c6",
   "metadata": {
    "tags": []
   },
   "outputs": [
    {
     "data": {
      "image/png": "[encoded data removed]",
      "text/plain": [
       "<Figure size 1000x500 with 1 Axes>"
      ]
     },
     "metadata": {},
     "output_type": "display_data"
    }
   ],
   "source": [
    "fig = plt.figure(figsize = (10, 5))\n",
    " \n",
    "# creating the bar plot\n",
    "plt.plot(ibm_hist['price'][::-1].values)\n",
    "plt.plot(ibm_hist['avg_model_pred'][::-1].values)\n",
    "plt.axvline(x = 80, color = 'b', label = 'axvline - full height')\n",
    "plt.title('IBM Price')\n",
    "plt.xlabel(\"time\")\n",
    "plt.ylabel(\"price\")\n",
    "plt.show()"
   ]
  },
  {
   "cell_type": "code",
   "execution_count": 62,
   "id": "ddec8e1d-bdb5-49eb-9a1b-7e5af731ab16",
   "metadata": {
    "tags": []
   },
   "outputs": [
    {
     "data": {
      "text/plain": [
       "99    124.500\n",
       "98    124.210\n",
       "97    123.500\n",
       "96    123.495\n",
       "95    123.380\n",
       "       ...   \n",
       "4     129.110\n",
       "3     129.330\n",
       "2     129.300\n",
       "1     129.110\n",
       "0     129.270\n",
       "Name: price, Length: 100, dtype: float64"
      ]
     },
     "execution_count": 62,
     "metadata": {},
     "output_type": "execute_result"
    }
   ],
   "source": [
    "ibm_hist['price'][::-1]"
   ]
  },
  {
   "cell_type": "code",
   "execution_count": 67,
   "id": "c8157261-0ad8-470b-813c-4a88fa0385bc",
   "metadata": {
    "tags": []
   },
   "outputs": [],
   "source": [
    "ibm_hist['sq_error'] = (ibm_hist['price'] - ibm_hist['avg_model_pred'])**2"
   ]
  },
  {
   "cell_type": "code",
   "execution_count": 73,
   "id": "8875b89e-c16a-4335-8a2f-ddbd67070047",
   "metadata": {
    "tags": []
   },
   "outputs": [],
   "source": [
    "oos_mse = np.mean(ibm_hist[ibm_hist['is_test']==1]['sq_error'])"
   ]
  },
  {
   "cell_type": "code",
   "execution_count": 74,
   "id": "83765980-0146-4bd4-9bdb-a7a214d973e3",
   "metadata": {
    "tags": []
   },
   "outputs": [
    {
     "data": {
      "text/plain": [
       "19.85669036995779"
      ]
     },
     "execution_count": 74,
     "metadata": {},
     "output_type": "execute_result"
    }
   ],
   "source": [
    "oos_mse"
   ]
  },
  {
   "cell_type": "code",
   "execution_count": 70,
   "id": "bf9caad1-57b5-4cf8-8cd2-d849d6a1ed0e",
   "metadata": {
    "tags": []
   },
   "outputs": [],
   "source": [
    "insample_mse = np.mean(ibm_hist[ibm_hist['is_test']==0]['sq_error'])"
   ]
  },
  {
   "cell_type": "code",
   "execution_count": 71,
   "id": "b977fe1b-16ed-43eb-991f-2953fcc135e2",
   "metadata": {
    "tags": []
   },
   "outputs": [
    {
     "data": {
      "text/plain": [
       "1.912267196793171"
      ]
     },
     "execution_count": 71,
     "metadata": {},
     "output_type": "execute_result"
    }
   ],
   "source": [
    "insample_mse"
   ]
  },
  {
   "cell_type": "code",
   "execution_count": null,
   "id": "9d92b94b-ecdf-447b-b687-4c55d07b266b",
   "metadata": {},
   "outputs": [],
   "source": []
  }
 ],
 "metadata": {
  "kernelspec": {
   "display_name": "Python 3 (ipykernel)",
   "language": "python",
   "name": "python3"
  },
  "language_info": {
   "codemirror_mode": {
    "name": "ipython",
    "version": 3
   },
   "file_extension": ".py",
   "mimetype": "text/x-python",
   "name": "python",
   "nbconvert_exporter": "python",
   "pygments_lexer": "ipython3",
   "version": "3.7.5"
  }
 },
 "nbformat": 4,
 "nbformat_minor": 5
}
